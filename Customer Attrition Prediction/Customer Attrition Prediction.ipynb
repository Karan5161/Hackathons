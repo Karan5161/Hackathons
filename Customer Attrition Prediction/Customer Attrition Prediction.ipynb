{
 "cells": [
  {
   "cell_type": "markdown",
   "metadata": {},
   "source": [
    "# Importing required libraries."
   ]
  },
  {
   "cell_type": "code",
   "execution_count": 693,
   "metadata": {},
   "outputs": [],
   "source": [
    "import pandas as pd\n",
    "import numpy as np\n",
    "import matplotlib.pyplot as plt\n",
    "import seaborn as sns\n",
    "# import the ML algorithm\n",
    "from sklearn.neighbors import KNeighborsClassifier\n",
    "from sklearn.linear_model import LogisticRegression\n",
    "from sklearn.naive_bayes import GaussianNB\n",
    "from sklearn.naive_bayes import MultinomialNB\n",
    "from sklearn.tree import DecisionTreeClassifier\n",
    "from sklearn.ensemble import RandomForestClassifier\n",
    "from sklearn.ensemble import GradientBoostingClassifier,AdaBoostClassifier\n",
    "from sklearn.cluster import KMeans\n",
    "from sklearn.discriminant_analysis import LinearDiscriminantAnalysis\n",
    "import xgboost as xgb\n",
    "from xgboost import XGBClassifier\n",
    "from xgboost import plot_importance\n",
    "from sklearn.svm import SVC\n",
    "from sklearn.model_selection import GridSearchCV\n",
    "import graphviz\n",
    "from IPython.display import display\n",
    "\n",
    "\n",
    "# import libraries for model validation\n",
    "from sklearn.model_selection import cross_val_score\n",
    "from sklearn.model_selection import train_test_split\n",
    "from sklearn.model_selection import KFold \n",
    "# For accuracy\n",
    "from sklearn.metrics import accuracy_score\n",
    "# first neural network with keras tutorial\n",
    "from numpy import loadtxt\n",
    "#from keras.models import Sequential\n",
    "#from keras.layers import Dense\n",
    "import xgboost as xgb\n",
    "import tqdm\n",
    "#import hyperopt\n",
    "import sys\n",
    "import scipy\n",
    "\n",
    "# check version number\n",
    "import imblearn\n",
    "\n",
    "\n",
    "#import lightgbm\n",
    "#from catboost import Pool, CatBoostClassifier, cv"
   ]
  },
  {
   "cell_type": "code",
   "execution_count": 694,
   "metadata": {},
   "outputs": [],
   "source": [
    "train = pd.read_csv('train.csv')"
   ]
  },
  {
   "cell_type": "code",
   "execution_count": 695,
   "metadata": {},
   "outputs": [],
   "source": [
    "test = pd.read_csv('test.csv')"
   ]
  },
  {
   "cell_type": "code",
   "execution_count": 696,
   "metadata": {},
   "outputs": [
    {
     "data": {
      "text/html": [
       "<div>\n",
       "<style scoped>\n",
       "    .dataframe tbody tr th:only-of-type {\n",
       "        vertical-align: middle;\n",
       "    }\n",
       "\n",
       "    .dataframe tbody tr th {\n",
       "        vertical-align: top;\n",
       "    }\n",
       "\n",
       "    .dataframe thead th {\n",
       "        text-align: right;\n",
       "    }\n",
       "</style>\n",
       "<table border=\"1\" class=\"dataframe\">\n",
       "  <thead>\n",
       "    <tr style=\"text-align: right;\">\n",
       "      <th></th>\n",
       "      <th>ID</th>\n",
       "      <th>sex</th>\n",
       "      <th>Aged</th>\n",
       "      <th>Married</th>\n",
       "      <th>TotalDependents</th>\n",
       "      <th>ServiceSpan</th>\n",
       "      <th>MobileService</th>\n",
       "      <th>4GService</th>\n",
       "      <th>CyberProtection</th>\n",
       "      <th>HardwareSupport</th>\n",
       "      <th>TechnicalAssistance</th>\n",
       "      <th>FilmSubscription</th>\n",
       "      <th>SettlementProcess</th>\n",
       "      <th>QuarterlyPayment</th>\n",
       "      <th>GrandPayment</th>\n",
       "      <th>CustomerAttrition</th>\n",
       "    </tr>\n",
       "  </thead>\n",
       "  <tbody>\n",
       "    <tr>\n",
       "      <th>0</th>\n",
       "      <td>B60LHTZLLPFU4IULNPUF</td>\n",
       "      <td>Female</td>\n",
       "      <td>No</td>\n",
       "      <td>No</td>\n",
       "      <td>Yes</td>\n",
       "      <td>48</td>\n",
       "      <td>Yes</td>\n",
       "      <td>Wifi Broadband</td>\n",
       "      <td>No</td>\n",
       "      <td>Yes</td>\n",
       "      <td>Yes</td>\n",
       "      <td>No</td>\n",
       "      <td>Check</td>\n",
       "      <td>96.259802</td>\n",
       "      <td>4628.129119</td>\n",
       "      <td>Yes</td>\n",
       "    </tr>\n",
       "    <tr>\n",
       "      <th>1</th>\n",
       "      <td>1RUJ7ONYZHYTWKOKO1SD</td>\n",
       "      <td>Male</td>\n",
       "      <td>No</td>\n",
       "      <td>Yes</td>\n",
       "      <td>No</td>\n",
       "      <td>45</td>\n",
       "      <td>Yes</td>\n",
       "      <td>Wifi Broadband</td>\n",
       "      <td>No</td>\n",
       "      <td>No</td>\n",
       "      <td>No</td>\n",
       "      <td>Yes</td>\n",
       "      <td>Bank</td>\n",
       "      <td>18.876470</td>\n",
       "      <td>922.085998</td>\n",
       "      <td>No</td>\n",
       "    </tr>\n",
       "    <tr>\n",
       "      <th>2</th>\n",
       "      <td>DZ9EEOQWSN0MYCBUPAM5</td>\n",
       "      <td>Male</td>\n",
       "      <td>Yes</td>\n",
       "      <td>Yes</td>\n",
       "      <td>No</td>\n",
       "      <td>59</td>\n",
       "      <td>Yes</td>\n",
       "      <td>Wifi Broadband</td>\n",
       "      <td>Yes</td>\n",
       "      <td>No</td>\n",
       "      <td>Yes</td>\n",
       "      <td>No</td>\n",
       "      <td>Card</td>\n",
       "      <td>106.016057</td>\n",
       "      <td>6205.891129</td>\n",
       "      <td>Yes</td>\n",
       "    </tr>\n",
       "    <tr>\n",
       "      <th>3</th>\n",
       "      <td>YZ43L1UQUQACTL1PXXZG</td>\n",
       "      <td>Male</td>\n",
       "      <td>No</td>\n",
       "      <td>No</td>\n",
       "      <td>No</td>\n",
       "      <td>14</td>\n",
       "      <td>Yes</td>\n",
       "      <td>Wifi Broadband</td>\n",
       "      <td>No</td>\n",
       "      <td>No</td>\n",
       "      <td>No</td>\n",
       "      <td>No</td>\n",
       "      <td>Check</td>\n",
       "      <td>80.108839</td>\n",
       "      <td>1248.655391</td>\n",
       "      <td>No</td>\n",
       "    </tr>\n",
       "    <tr>\n",
       "      <th>4</th>\n",
       "      <td>6P28152QGF60PDLSCB9M</td>\n",
       "      <td>Female</td>\n",
       "      <td>No</td>\n",
       "      <td>Yes</td>\n",
       "      <td>Yes</td>\n",
       "      <td>25</td>\n",
       "      <td>Yes</td>\n",
       "      <td>Wifi Broadband</td>\n",
       "      <td>No</td>\n",
       "      <td>Yes</td>\n",
       "      <td>No</td>\n",
       "      <td>Yes</td>\n",
       "      <td>Check</td>\n",
       "      <td>51.529773</td>\n",
       "      <td>1285.321277</td>\n",
       "      <td>No</td>\n",
       "    </tr>\n",
       "  </tbody>\n",
       "</table>\n",
       "</div>"
      ],
      "text/plain": [
       "                     ID     sex Aged Married TotalDependents  ServiceSpan  \\\n",
       "0  B60LHTZLLPFU4IULNPUF  Female   No      No             Yes           48   \n",
       "1  1RUJ7ONYZHYTWKOKO1SD    Male   No     Yes              No           45   \n",
       "2  DZ9EEOQWSN0MYCBUPAM5    Male  Yes     Yes              No           59   \n",
       "3  YZ43L1UQUQACTL1PXXZG    Male   No      No              No           14   \n",
       "4  6P28152QGF60PDLSCB9M  Female   No     Yes             Yes           25   \n",
       "\n",
       "  MobileService       4GService CyberProtection HardwareSupport  \\\n",
       "0           Yes  Wifi Broadband              No             Yes   \n",
       "1           Yes  Wifi Broadband              No              No   \n",
       "2           Yes  Wifi Broadband             Yes              No   \n",
       "3           Yes  Wifi Broadband              No              No   \n",
       "4           Yes  Wifi Broadband              No             Yes   \n",
       "\n",
       "  TechnicalAssistance FilmSubscription SettlementProcess  QuarterlyPayment  \\\n",
       "0                 Yes               No             Check         96.259802   \n",
       "1                  No              Yes              Bank         18.876470   \n",
       "2                 Yes               No              Card        106.016057   \n",
       "3                  No               No             Check         80.108839   \n",
       "4                  No              Yes             Check         51.529773   \n",
       "\n",
       "   GrandPayment CustomerAttrition  \n",
       "0   4628.129119               Yes  \n",
       "1    922.085998                No  \n",
       "2   6205.891129               Yes  \n",
       "3   1248.655391                No  \n",
       "4   1285.321277                No  "
      ]
     },
     "execution_count": 696,
     "metadata": {},
     "output_type": "execute_result"
    }
   ],
   "source": [
    "train.head()"
   ]
  },
  {
   "cell_type": "code",
   "execution_count": 697,
   "metadata": {},
   "outputs": [
    {
     "data": {
      "text/plain": [
       "ID                      0\n",
       "sex                     0\n",
       "Aged                    0\n",
       "Married                 0\n",
       "TotalDependents         0\n",
       "ServiceSpan             0\n",
       "MobileService           0\n",
       "4GService               0\n",
       "CyberProtection         0\n",
       "HardwareSupport         0\n",
       "TechnicalAssistance     0\n",
       "FilmSubscription        0\n",
       "SettlementProcess       0\n",
       "QuarterlyPayment        0\n",
       "GrandPayment           10\n",
       "CustomerAttrition       0\n",
       "dtype: int64"
      ]
     },
     "execution_count": 697,
     "metadata": {},
     "output_type": "execute_result"
    }
   ],
   "source": [
    "train.isnull().sum()"
   ]
  },
  {
   "cell_type": "code",
   "execution_count": 698,
   "metadata": {},
   "outputs": [
    {
     "data": {
      "text/plain": [
       "ID                     0\n",
       "sex                    0\n",
       "Aged                   0\n",
       "Married                0\n",
       "TotalDependents        0\n",
       "ServiceSpan            0\n",
       "MobileService          0\n",
       "4GService              0\n",
       "CyberProtection        0\n",
       "HardwareSupport        0\n",
       "TechnicalAssistance    0\n",
       "FilmSubscription       0\n",
       "SettlementProcess      0\n",
       "QuarterlyPayment       0\n",
       "GrandPayment           1\n",
       "dtype: int64"
      ]
     },
     "execution_count": 698,
     "metadata": {},
     "output_type": "execute_result"
    }
   ],
   "source": [
    "test.isnull().sum()"
   ]
  },
  {
   "cell_type": "code",
   "execution_count": 699,
   "metadata": {},
   "outputs": [],
   "source": [
    "#col_remove=['Aged','TotalDependents','ServiceSpan','MobileService','SettlementProcess']\n",
    "#train.drop(labels=col_remove,axis=1,inplace=True)"
   ]
  },
  {
   "cell_type": "code",
   "execution_count": 700,
   "metadata": {},
   "outputs": [],
   "source": [
    "#Col_removet =['Aged','TotalDependents','ServiceSpan','MobileService','SettlementProcess']\n",
    "#test.drop(labels=col_remove,axis=1,inplace=True)"
   ]
  },
  {
   "cell_type": "code",
   "execution_count": 701,
   "metadata": {},
   "outputs": [],
   "source": [
    "train.loc[train['GrandPayment'].isna(),'GrandPayment'] = train['QuarterlyPayment']"
   ]
  },
  {
   "cell_type": "code",
   "execution_count": 702,
   "metadata": {},
   "outputs": [],
   "source": [
    "test.loc[test['GrandPayment'].isna(),'GrandPayment'] = test['QuarterlyPayment']"
   ]
  },
  {
   "cell_type": "code",
   "execution_count": 703,
   "metadata": {},
   "outputs": [],
   "source": [
    "#train[train['ServiceSpan']<0]"
   ]
  },
  {
   "cell_type": "code",
   "execution_count": 704,
   "metadata": {},
   "outputs": [],
   "source": [
    "#test[test['ServiceSpan']<0]"
   ]
  },
  {
   "cell_type": "code",
   "execution_count": 705,
   "metadata": {},
   "outputs": [
    {
     "data": {
      "text/plain": [
       "(6338, 16)"
      ]
     },
     "execution_count": 705,
     "metadata": {},
     "output_type": "execute_result"
    }
   ],
   "source": [
    "train.shape"
   ]
  },
  {
   "cell_type": "code",
   "execution_count": 706,
   "metadata": {},
   "outputs": [
    {
     "data": {
      "text/plain": [
       "(705, 15)"
      ]
     },
     "execution_count": 706,
     "metadata": {},
     "output_type": "execute_result"
    }
   ],
   "source": [
    "test.shape"
   ]
  },
  {
   "cell_type": "code",
   "execution_count": 707,
   "metadata": {},
   "outputs": [
    {
     "data": {
      "text/plain": [
       "CustomerAttrition\n",
       "No     4658\n",
       "Yes    1680\n",
       "dtype: int64"
      ]
     },
     "execution_count": 707,
     "metadata": {},
     "output_type": "execute_result"
    }
   ],
   "source": [
    "train.groupby('CustomerAttrition').size()"
   ]
  },
  {
   "cell_type": "markdown",
   "metadata": {},
   "source": [
    "Mapping all the required Variables into 1 and 0, also replacing the NA values in Grand Payment with QuarterlyPayment because there is direct relationship between them."
   ]
  },
  {
   "cell_type": "code",
   "execution_count": 708,
   "metadata": {},
   "outputs": [],
   "source": [
    "x = train['sex'].map({'Female':0,'Male':1})"
   ]
  },
  {
   "cell_type": "code",
   "execution_count": 709,
   "metadata": {},
   "outputs": [],
   "source": [
    "train['sex'] = x"
   ]
  },
  {
   "cell_type": "code",
   "execution_count": 710,
   "metadata": {},
   "outputs": [
    {
     "data": {
      "text/html": [
       "<div>\n",
       "<style scoped>\n",
       "    .dataframe tbody tr th:only-of-type {\n",
       "        vertical-align: middle;\n",
       "    }\n",
       "\n",
       "    .dataframe tbody tr th {\n",
       "        vertical-align: top;\n",
       "    }\n",
       "\n",
       "    .dataframe thead th {\n",
       "        text-align: right;\n",
       "    }\n",
       "</style>\n",
       "<table border=\"1\" class=\"dataframe\">\n",
       "  <thead>\n",
       "    <tr style=\"text-align: right;\">\n",
       "      <th></th>\n",
       "      <th>ID</th>\n",
       "      <th>sex</th>\n",
       "      <th>Aged</th>\n",
       "      <th>Married</th>\n",
       "      <th>TotalDependents</th>\n",
       "      <th>ServiceSpan</th>\n",
       "      <th>MobileService</th>\n",
       "      <th>4GService</th>\n",
       "      <th>CyberProtection</th>\n",
       "      <th>HardwareSupport</th>\n",
       "      <th>TechnicalAssistance</th>\n",
       "      <th>FilmSubscription</th>\n",
       "      <th>SettlementProcess</th>\n",
       "      <th>QuarterlyPayment</th>\n",
       "      <th>GrandPayment</th>\n",
       "      <th>CustomerAttrition</th>\n",
       "    </tr>\n",
       "  </thead>\n",
       "  <tbody>\n",
       "    <tr>\n",
       "      <th>0</th>\n",
       "      <td>B60LHTZLLPFU4IULNPUF</td>\n",
       "      <td>0</td>\n",
       "      <td>No</td>\n",
       "      <td>No</td>\n",
       "      <td>Yes</td>\n",
       "      <td>48</td>\n",
       "      <td>Yes</td>\n",
       "      <td>Wifi Broadband</td>\n",
       "      <td>No</td>\n",
       "      <td>Yes</td>\n",
       "      <td>Yes</td>\n",
       "      <td>No</td>\n",
       "      <td>Check</td>\n",
       "      <td>96.259802</td>\n",
       "      <td>4628.129119</td>\n",
       "      <td>Yes</td>\n",
       "    </tr>\n",
       "    <tr>\n",
       "      <th>1</th>\n",
       "      <td>1RUJ7ONYZHYTWKOKO1SD</td>\n",
       "      <td>1</td>\n",
       "      <td>No</td>\n",
       "      <td>Yes</td>\n",
       "      <td>No</td>\n",
       "      <td>45</td>\n",
       "      <td>Yes</td>\n",
       "      <td>Wifi Broadband</td>\n",
       "      <td>No</td>\n",
       "      <td>No</td>\n",
       "      <td>No</td>\n",
       "      <td>Yes</td>\n",
       "      <td>Bank</td>\n",
       "      <td>18.876470</td>\n",
       "      <td>922.085998</td>\n",
       "      <td>No</td>\n",
       "    </tr>\n",
       "    <tr>\n",
       "      <th>2</th>\n",
       "      <td>DZ9EEOQWSN0MYCBUPAM5</td>\n",
       "      <td>1</td>\n",
       "      <td>Yes</td>\n",
       "      <td>Yes</td>\n",
       "      <td>No</td>\n",
       "      <td>59</td>\n",
       "      <td>Yes</td>\n",
       "      <td>Wifi Broadband</td>\n",
       "      <td>Yes</td>\n",
       "      <td>No</td>\n",
       "      <td>Yes</td>\n",
       "      <td>No</td>\n",
       "      <td>Card</td>\n",
       "      <td>106.016057</td>\n",
       "      <td>6205.891129</td>\n",
       "      <td>Yes</td>\n",
       "    </tr>\n",
       "    <tr>\n",
       "      <th>3</th>\n",
       "      <td>YZ43L1UQUQACTL1PXXZG</td>\n",
       "      <td>1</td>\n",
       "      <td>No</td>\n",
       "      <td>No</td>\n",
       "      <td>No</td>\n",
       "      <td>14</td>\n",
       "      <td>Yes</td>\n",
       "      <td>Wifi Broadband</td>\n",
       "      <td>No</td>\n",
       "      <td>No</td>\n",
       "      <td>No</td>\n",
       "      <td>No</td>\n",
       "      <td>Check</td>\n",
       "      <td>80.108839</td>\n",
       "      <td>1248.655391</td>\n",
       "      <td>No</td>\n",
       "    </tr>\n",
       "    <tr>\n",
       "      <th>4</th>\n",
       "      <td>6P28152QGF60PDLSCB9M</td>\n",
       "      <td>0</td>\n",
       "      <td>No</td>\n",
       "      <td>Yes</td>\n",
       "      <td>Yes</td>\n",
       "      <td>25</td>\n",
       "      <td>Yes</td>\n",
       "      <td>Wifi Broadband</td>\n",
       "      <td>No</td>\n",
       "      <td>Yes</td>\n",
       "      <td>No</td>\n",
       "      <td>Yes</td>\n",
       "      <td>Check</td>\n",
       "      <td>51.529773</td>\n",
       "      <td>1285.321277</td>\n",
       "      <td>No</td>\n",
       "    </tr>\n",
       "  </tbody>\n",
       "</table>\n",
       "</div>"
      ],
      "text/plain": [
       "                     ID  sex Aged Married TotalDependents  ServiceSpan  \\\n",
       "0  B60LHTZLLPFU4IULNPUF    0   No      No             Yes           48   \n",
       "1  1RUJ7ONYZHYTWKOKO1SD    1   No     Yes              No           45   \n",
       "2  DZ9EEOQWSN0MYCBUPAM5    1  Yes     Yes              No           59   \n",
       "3  YZ43L1UQUQACTL1PXXZG    1   No      No              No           14   \n",
       "4  6P28152QGF60PDLSCB9M    0   No     Yes             Yes           25   \n",
       "\n",
       "  MobileService       4GService CyberProtection HardwareSupport  \\\n",
       "0           Yes  Wifi Broadband              No             Yes   \n",
       "1           Yes  Wifi Broadband              No              No   \n",
       "2           Yes  Wifi Broadband             Yes              No   \n",
       "3           Yes  Wifi Broadband              No              No   \n",
       "4           Yes  Wifi Broadband              No             Yes   \n",
       "\n",
       "  TechnicalAssistance FilmSubscription SettlementProcess  QuarterlyPayment  \\\n",
       "0                 Yes               No             Check         96.259802   \n",
       "1                  No              Yes              Bank         18.876470   \n",
       "2                 Yes               No              Card        106.016057   \n",
       "3                  No               No             Check         80.108839   \n",
       "4                  No              Yes             Check         51.529773   \n",
       "\n",
       "   GrandPayment CustomerAttrition  \n",
       "0   4628.129119               Yes  \n",
       "1    922.085998                No  \n",
       "2   6205.891129               Yes  \n",
       "3   1248.655391                No  \n",
       "4   1285.321277                No  "
      ]
     },
     "execution_count": 710,
     "metadata": {},
     "output_type": "execute_result"
    }
   ],
   "source": [
    "train.head()"
   ]
  },
  {
   "cell_type": "code",
   "execution_count": 711,
   "metadata": {},
   "outputs": [],
   "source": [
    "test['sex']=test['sex'].map({'Female':0,'Male':1})"
   ]
  },
  {
   "cell_type": "code",
   "execution_count": 712,
   "metadata": {},
   "outputs": [],
   "source": [
    "A = train['Aged'].map({'No':0,'Yes':1})"
   ]
  },
  {
   "cell_type": "code",
   "execution_count": 713,
   "metadata": {},
   "outputs": [],
   "source": [
    "train['Aged'] = A"
   ]
  },
  {
   "cell_type": "code",
   "execution_count": 714,
   "metadata": {},
   "outputs": [
    {
     "data": {
      "text/html": [
       "<div>\n",
       "<style scoped>\n",
       "    .dataframe tbody tr th:only-of-type {\n",
       "        vertical-align: middle;\n",
       "    }\n",
       "\n",
       "    .dataframe tbody tr th {\n",
       "        vertical-align: top;\n",
       "    }\n",
       "\n",
       "    .dataframe thead th {\n",
       "        text-align: right;\n",
       "    }\n",
       "</style>\n",
       "<table border=\"1\" class=\"dataframe\">\n",
       "  <thead>\n",
       "    <tr style=\"text-align: right;\">\n",
       "      <th></th>\n",
       "      <th>ID</th>\n",
       "      <th>sex</th>\n",
       "      <th>Aged</th>\n",
       "      <th>Married</th>\n",
       "      <th>TotalDependents</th>\n",
       "      <th>ServiceSpan</th>\n",
       "      <th>MobileService</th>\n",
       "      <th>4GService</th>\n",
       "      <th>CyberProtection</th>\n",
       "      <th>HardwareSupport</th>\n",
       "      <th>TechnicalAssistance</th>\n",
       "      <th>FilmSubscription</th>\n",
       "      <th>SettlementProcess</th>\n",
       "      <th>QuarterlyPayment</th>\n",
       "      <th>GrandPayment</th>\n",
       "      <th>CustomerAttrition</th>\n",
       "    </tr>\n",
       "  </thead>\n",
       "  <tbody>\n",
       "    <tr>\n",
       "      <th>0</th>\n",
       "      <td>B60LHTZLLPFU4IULNPUF</td>\n",
       "      <td>0</td>\n",
       "      <td>0</td>\n",
       "      <td>No</td>\n",
       "      <td>Yes</td>\n",
       "      <td>48</td>\n",
       "      <td>Yes</td>\n",
       "      <td>Wifi Broadband</td>\n",
       "      <td>No</td>\n",
       "      <td>Yes</td>\n",
       "      <td>Yes</td>\n",
       "      <td>No</td>\n",
       "      <td>Check</td>\n",
       "      <td>96.259802</td>\n",
       "      <td>4628.129119</td>\n",
       "      <td>Yes</td>\n",
       "    </tr>\n",
       "    <tr>\n",
       "      <th>1</th>\n",
       "      <td>1RUJ7ONYZHYTWKOKO1SD</td>\n",
       "      <td>1</td>\n",
       "      <td>0</td>\n",
       "      <td>Yes</td>\n",
       "      <td>No</td>\n",
       "      <td>45</td>\n",
       "      <td>Yes</td>\n",
       "      <td>Wifi Broadband</td>\n",
       "      <td>No</td>\n",
       "      <td>No</td>\n",
       "      <td>No</td>\n",
       "      <td>Yes</td>\n",
       "      <td>Bank</td>\n",
       "      <td>18.876470</td>\n",
       "      <td>922.085998</td>\n",
       "      <td>No</td>\n",
       "    </tr>\n",
       "    <tr>\n",
       "      <th>2</th>\n",
       "      <td>DZ9EEOQWSN0MYCBUPAM5</td>\n",
       "      <td>1</td>\n",
       "      <td>1</td>\n",
       "      <td>Yes</td>\n",
       "      <td>No</td>\n",
       "      <td>59</td>\n",
       "      <td>Yes</td>\n",
       "      <td>Wifi Broadband</td>\n",
       "      <td>Yes</td>\n",
       "      <td>No</td>\n",
       "      <td>Yes</td>\n",
       "      <td>No</td>\n",
       "      <td>Card</td>\n",
       "      <td>106.016057</td>\n",
       "      <td>6205.891129</td>\n",
       "      <td>Yes</td>\n",
       "    </tr>\n",
       "    <tr>\n",
       "      <th>3</th>\n",
       "      <td>YZ43L1UQUQACTL1PXXZG</td>\n",
       "      <td>1</td>\n",
       "      <td>0</td>\n",
       "      <td>No</td>\n",
       "      <td>No</td>\n",
       "      <td>14</td>\n",
       "      <td>Yes</td>\n",
       "      <td>Wifi Broadband</td>\n",
       "      <td>No</td>\n",
       "      <td>No</td>\n",
       "      <td>No</td>\n",
       "      <td>No</td>\n",
       "      <td>Check</td>\n",
       "      <td>80.108839</td>\n",
       "      <td>1248.655391</td>\n",
       "      <td>No</td>\n",
       "    </tr>\n",
       "    <tr>\n",
       "      <th>4</th>\n",
       "      <td>6P28152QGF60PDLSCB9M</td>\n",
       "      <td>0</td>\n",
       "      <td>0</td>\n",
       "      <td>Yes</td>\n",
       "      <td>Yes</td>\n",
       "      <td>25</td>\n",
       "      <td>Yes</td>\n",
       "      <td>Wifi Broadband</td>\n",
       "      <td>No</td>\n",
       "      <td>Yes</td>\n",
       "      <td>No</td>\n",
       "      <td>Yes</td>\n",
       "      <td>Check</td>\n",
       "      <td>51.529773</td>\n",
       "      <td>1285.321277</td>\n",
       "      <td>No</td>\n",
       "    </tr>\n",
       "  </tbody>\n",
       "</table>\n",
       "</div>"
      ],
      "text/plain": [
       "                     ID  sex  Aged Married TotalDependents  ServiceSpan  \\\n",
       "0  B60LHTZLLPFU4IULNPUF    0     0      No             Yes           48   \n",
       "1  1RUJ7ONYZHYTWKOKO1SD    1     0     Yes              No           45   \n",
       "2  DZ9EEOQWSN0MYCBUPAM5    1     1     Yes              No           59   \n",
       "3  YZ43L1UQUQACTL1PXXZG    1     0      No              No           14   \n",
       "4  6P28152QGF60PDLSCB9M    0     0     Yes             Yes           25   \n",
       "\n",
       "  MobileService       4GService CyberProtection HardwareSupport  \\\n",
       "0           Yes  Wifi Broadband              No             Yes   \n",
       "1           Yes  Wifi Broadband              No              No   \n",
       "2           Yes  Wifi Broadband             Yes              No   \n",
       "3           Yes  Wifi Broadband              No              No   \n",
       "4           Yes  Wifi Broadband              No             Yes   \n",
       "\n",
       "  TechnicalAssistance FilmSubscription SettlementProcess  QuarterlyPayment  \\\n",
       "0                 Yes               No             Check         96.259802   \n",
       "1                  No              Yes              Bank         18.876470   \n",
       "2                 Yes               No              Card        106.016057   \n",
       "3                  No               No             Check         80.108839   \n",
       "4                  No              Yes             Check         51.529773   \n",
       "\n",
       "   GrandPayment CustomerAttrition  \n",
       "0   4628.129119               Yes  \n",
       "1    922.085998                No  \n",
       "2   6205.891129               Yes  \n",
       "3   1248.655391                No  \n",
       "4   1285.321277                No  "
      ]
     },
     "execution_count": 714,
     "metadata": {},
     "output_type": "execute_result"
    }
   ],
   "source": [
    "train.head()"
   ]
  },
  {
   "cell_type": "code",
   "execution_count": 715,
   "metadata": {},
   "outputs": [],
   "source": [
    "test['Aged'] = test['Aged'].map({'No':0,'Yes':1})"
   ]
  },
  {
   "cell_type": "code",
   "execution_count": 716,
   "metadata": {},
   "outputs": [],
   "source": [
    "train['Married'] = train['Married'].map({'No':0,'Yes':1})"
   ]
  },
  {
   "cell_type": "code",
   "execution_count": 717,
   "metadata": {},
   "outputs": [],
   "source": [
    "test['Married'] = test['Married'].map({'No':0,'Yes':1})"
   ]
  },
  {
   "cell_type": "code",
   "execution_count": 718,
   "metadata": {},
   "outputs": [],
   "source": [
    "train['TotalDependents'] = train['TotalDependents'].map({'No':0,'Yes':1})"
   ]
  },
  {
   "cell_type": "code",
   "execution_count": 719,
   "metadata": {},
   "outputs": [],
   "source": [
    "test['TotalDependents'] = test['TotalDependents'].map({'No':0,'Yes':1})"
   ]
  },
  {
   "cell_type": "code",
   "execution_count": 720,
   "metadata": {},
   "outputs": [],
   "source": [
    "train['MobileService'] = train['MobileService'].map({'No':0,'Yes':1})"
   ]
  },
  {
   "cell_type": "code",
   "execution_count": 721,
   "metadata": {},
   "outputs": [],
   "source": [
    "test['MobileService'] = test['MobileService'].map({'No':0,'Yes':1})"
   ]
  },
  {
   "cell_type": "code",
   "execution_count": 722,
   "metadata": {},
   "outputs": [],
   "source": [
    "train['CyberProtection'] = train['CyberProtection'].map({'No':0,'Yes':1})"
   ]
  },
  {
   "cell_type": "code",
   "execution_count": 723,
   "metadata": {},
   "outputs": [],
   "source": [
    "test['CyberProtection'] = test['CyberProtection'].map({'No':0,'Yes':1})"
   ]
  },
  {
   "cell_type": "code",
   "execution_count": 724,
   "metadata": {},
   "outputs": [],
   "source": [
    "train['HardwareSupport'] = train['HardwareSupport'].map({'No':0,'Yes':1})"
   ]
  },
  {
   "cell_type": "code",
   "execution_count": 725,
   "metadata": {},
   "outputs": [],
   "source": [
    "test['HardwareSupport'] = test['HardwareSupport'].map({'No':0,'Yes':1})"
   ]
  },
  {
   "cell_type": "code",
   "execution_count": 726,
   "metadata": {},
   "outputs": [],
   "source": [
    "train['TechnicalAssistance'] = train['TechnicalAssistance'].map({'No':0,'Yes':1})"
   ]
  },
  {
   "cell_type": "code",
   "execution_count": 727,
   "metadata": {},
   "outputs": [],
   "source": [
    "test['TechnicalAssistance'] = test['TechnicalAssistance'].map({'No':0,'Yes':1})"
   ]
  },
  {
   "cell_type": "code",
   "execution_count": 728,
   "metadata": {},
   "outputs": [],
   "source": [
    "train['FilmSubscription'] = train['FilmSubscription'].map({'No':0,'Yes':1})"
   ]
  },
  {
   "cell_type": "code",
   "execution_count": 729,
   "metadata": {},
   "outputs": [],
   "source": [
    "test['FilmSubscription'] = test['FilmSubscription'].map({'No':0,'Yes':1})"
   ]
  },
  {
   "cell_type": "code",
   "execution_count": 730,
   "metadata": {},
   "outputs": [],
   "source": [
    "train['CustomerAttrition'] = train['CustomerAttrition'].map({'No':0,'Yes':1})"
   ]
  },
  {
   "cell_type": "code",
   "execution_count": 731,
   "metadata": {},
   "outputs": [
    {
     "data": {
      "text/plain": [
       "array(['Wifi Broadband', 'Satellite Broadband', 'No'], dtype=object)"
      ]
     },
     "execution_count": 731,
     "metadata": {},
     "output_type": "execute_result"
    }
   ],
   "source": [
    "train['4GService'].unique()"
   ]
  },
  {
   "cell_type": "code",
   "execution_count": 732,
   "metadata": {},
   "outputs": [],
   "source": [
    "#train['4GService'] = train['4GService'].map({'Wifi Broadband':1,'Satellite Broadband':2,'No':0})"
   ]
  },
  {
   "cell_type": "code",
   "execution_count": 733,
   "metadata": {},
   "outputs": [],
   "source": [
    "#test['4GService'] = test['4GService'].map({'Wifi Broadband':1,'Satellite Broadband':2,'No':0})"
   ]
  },
  {
   "cell_type": "code",
   "execution_count": 734,
   "metadata": {},
   "outputs": [
    {
     "data": {
      "text/plain": [
       "array(['Check', 'Bank', 'Card', 'Electronic'], dtype=object)"
      ]
     },
     "execution_count": 734,
     "metadata": {},
     "output_type": "execute_result"
    }
   ],
   "source": [
    "train['SettlementProcess'].unique()"
   ]
  },
  {
   "cell_type": "code",
   "execution_count": 735,
   "metadata": {},
   "outputs": [],
   "source": [
    "#train['SettlementProcess'] = train['SettlementProcess'].map({'Check':1,'Bank':2,'Card':3,'Electronic':4})"
   ]
  },
  {
   "cell_type": "code",
   "execution_count": 736,
   "metadata": {},
   "outputs": [],
   "source": [
    "#test['SettlementProcess'] = test['SettlementProcess'].map({'Check':1,'Bank':2,'Card':3,'Electronic':4})"
   ]
  },
  {
   "cell_type": "code",
   "execution_count": 737,
   "metadata": {},
   "outputs": [
    {
     "data": {
      "text/html": [
       "<div>\n",
       "<style scoped>\n",
       "    .dataframe tbody tr th:only-of-type {\n",
       "        vertical-align: middle;\n",
       "    }\n",
       "\n",
       "    .dataframe tbody tr th {\n",
       "        vertical-align: top;\n",
       "    }\n",
       "\n",
       "    .dataframe thead th {\n",
       "        text-align: right;\n",
       "    }\n",
       "</style>\n",
       "<table border=\"1\" class=\"dataframe\">\n",
       "  <thead>\n",
       "    <tr style=\"text-align: right;\">\n",
       "      <th></th>\n",
       "      <th>ID</th>\n",
       "      <th>sex</th>\n",
       "      <th>Aged</th>\n",
       "      <th>Married</th>\n",
       "      <th>TotalDependents</th>\n",
       "      <th>ServiceSpan</th>\n",
       "      <th>MobileService</th>\n",
       "      <th>4GService</th>\n",
       "      <th>CyberProtection</th>\n",
       "      <th>HardwareSupport</th>\n",
       "      <th>TechnicalAssistance</th>\n",
       "      <th>FilmSubscription</th>\n",
       "      <th>SettlementProcess</th>\n",
       "      <th>QuarterlyPayment</th>\n",
       "      <th>GrandPayment</th>\n",
       "      <th>CustomerAttrition</th>\n",
       "    </tr>\n",
       "  </thead>\n",
       "  <tbody>\n",
       "    <tr>\n",
       "      <th>0</th>\n",
       "      <td>B60LHTZLLPFU4IULNPUF</td>\n",
       "      <td>0</td>\n",
       "      <td>0</td>\n",
       "      <td>0</td>\n",
       "      <td>1</td>\n",
       "      <td>48</td>\n",
       "      <td>1</td>\n",
       "      <td>Wifi Broadband</td>\n",
       "      <td>0</td>\n",
       "      <td>1</td>\n",
       "      <td>1</td>\n",
       "      <td>0</td>\n",
       "      <td>Check</td>\n",
       "      <td>96.259802</td>\n",
       "      <td>4628.129119</td>\n",
       "      <td>1</td>\n",
       "    </tr>\n",
       "    <tr>\n",
       "      <th>1</th>\n",
       "      <td>1RUJ7ONYZHYTWKOKO1SD</td>\n",
       "      <td>1</td>\n",
       "      <td>0</td>\n",
       "      <td>1</td>\n",
       "      <td>0</td>\n",
       "      <td>45</td>\n",
       "      <td>1</td>\n",
       "      <td>Wifi Broadband</td>\n",
       "      <td>0</td>\n",
       "      <td>0</td>\n",
       "      <td>0</td>\n",
       "      <td>1</td>\n",
       "      <td>Bank</td>\n",
       "      <td>18.876470</td>\n",
       "      <td>922.085998</td>\n",
       "      <td>0</td>\n",
       "    </tr>\n",
       "    <tr>\n",
       "      <th>2</th>\n",
       "      <td>DZ9EEOQWSN0MYCBUPAM5</td>\n",
       "      <td>1</td>\n",
       "      <td>1</td>\n",
       "      <td>1</td>\n",
       "      <td>0</td>\n",
       "      <td>59</td>\n",
       "      <td>1</td>\n",
       "      <td>Wifi Broadband</td>\n",
       "      <td>1</td>\n",
       "      <td>0</td>\n",
       "      <td>1</td>\n",
       "      <td>0</td>\n",
       "      <td>Card</td>\n",
       "      <td>106.016057</td>\n",
       "      <td>6205.891129</td>\n",
       "      <td>1</td>\n",
       "    </tr>\n",
       "    <tr>\n",
       "      <th>3</th>\n",
       "      <td>YZ43L1UQUQACTL1PXXZG</td>\n",
       "      <td>1</td>\n",
       "      <td>0</td>\n",
       "      <td>0</td>\n",
       "      <td>0</td>\n",
       "      <td>14</td>\n",
       "      <td>1</td>\n",
       "      <td>Wifi Broadband</td>\n",
       "      <td>0</td>\n",
       "      <td>0</td>\n",
       "      <td>0</td>\n",
       "      <td>0</td>\n",
       "      <td>Check</td>\n",
       "      <td>80.108839</td>\n",
       "      <td>1248.655391</td>\n",
       "      <td>0</td>\n",
       "    </tr>\n",
       "    <tr>\n",
       "      <th>4</th>\n",
       "      <td>6P28152QGF60PDLSCB9M</td>\n",
       "      <td>0</td>\n",
       "      <td>0</td>\n",
       "      <td>1</td>\n",
       "      <td>1</td>\n",
       "      <td>25</td>\n",
       "      <td>1</td>\n",
       "      <td>Wifi Broadband</td>\n",
       "      <td>0</td>\n",
       "      <td>1</td>\n",
       "      <td>0</td>\n",
       "      <td>1</td>\n",
       "      <td>Check</td>\n",
       "      <td>51.529773</td>\n",
       "      <td>1285.321277</td>\n",
       "      <td>0</td>\n",
       "    </tr>\n",
       "  </tbody>\n",
       "</table>\n",
       "</div>"
      ],
      "text/plain": [
       "                     ID  sex  Aged  Married  TotalDependents  ServiceSpan  \\\n",
       "0  B60LHTZLLPFU4IULNPUF    0     0        0                1           48   \n",
       "1  1RUJ7ONYZHYTWKOKO1SD    1     0        1                0           45   \n",
       "2  DZ9EEOQWSN0MYCBUPAM5    1     1        1                0           59   \n",
       "3  YZ43L1UQUQACTL1PXXZG    1     0        0                0           14   \n",
       "4  6P28152QGF60PDLSCB9M    0     0        1                1           25   \n",
       "\n",
       "   MobileService       4GService  CyberProtection  HardwareSupport  \\\n",
       "0              1  Wifi Broadband                0                1   \n",
       "1              1  Wifi Broadband                0                0   \n",
       "2              1  Wifi Broadband                1                0   \n",
       "3              1  Wifi Broadband                0                0   \n",
       "4              1  Wifi Broadband                0                1   \n",
       "\n",
       "   TechnicalAssistance  FilmSubscription SettlementProcess  QuarterlyPayment  \\\n",
       "0                    1                 0             Check         96.259802   \n",
       "1                    0                 1              Bank         18.876470   \n",
       "2                    1                 0              Card        106.016057   \n",
       "3                    0                 0             Check         80.108839   \n",
       "4                    0                 1             Check         51.529773   \n",
       "\n",
       "   GrandPayment  CustomerAttrition  \n",
       "0   4628.129119                  1  \n",
       "1    922.085998                  0  \n",
       "2   6205.891129                  1  \n",
       "3   1248.655391                  0  \n",
       "4   1285.321277                  0  "
      ]
     },
     "execution_count": 737,
     "metadata": {},
     "output_type": "execute_result"
    }
   ],
   "source": [
    "train.head()"
   ]
  },
  {
   "cell_type": "code",
   "execution_count": 738,
   "metadata": {},
   "outputs": [
    {
     "data": {
      "text/html": [
       "<div>\n",
       "<style scoped>\n",
       "    .dataframe tbody tr th:only-of-type {\n",
       "        vertical-align: middle;\n",
       "    }\n",
       "\n",
       "    .dataframe tbody tr th {\n",
       "        vertical-align: top;\n",
       "    }\n",
       "\n",
       "    .dataframe thead th {\n",
       "        text-align: right;\n",
       "    }\n",
       "</style>\n",
       "<table border=\"1\" class=\"dataframe\">\n",
       "  <thead>\n",
       "    <tr style=\"text-align: right;\">\n",
       "      <th></th>\n",
       "      <th>ID</th>\n",
       "      <th>sex</th>\n",
       "      <th>Aged</th>\n",
       "      <th>Married</th>\n",
       "      <th>TotalDependents</th>\n",
       "      <th>ServiceSpan</th>\n",
       "      <th>MobileService</th>\n",
       "      <th>4GService</th>\n",
       "      <th>CyberProtection</th>\n",
       "      <th>HardwareSupport</th>\n",
       "      <th>TechnicalAssistance</th>\n",
       "      <th>FilmSubscription</th>\n",
       "      <th>SettlementProcess</th>\n",
       "      <th>QuarterlyPayment</th>\n",
       "      <th>GrandPayment</th>\n",
       "    </tr>\n",
       "  </thead>\n",
       "  <tbody>\n",
       "    <tr>\n",
       "      <th>0</th>\n",
       "      <td>WMORTPCG3HTIPEFSGUFY</td>\n",
       "      <td>1</td>\n",
       "      <td>0</td>\n",
       "      <td>0</td>\n",
       "      <td>0</td>\n",
       "      <td>8</td>\n",
       "      <td>1</td>\n",
       "      <td>Wifi Broadband</td>\n",
       "      <td>0</td>\n",
       "      <td>0</td>\n",
       "      <td>0</td>\n",
       "      <td>1</td>\n",
       "      <td>Check</td>\n",
       "      <td>21.299937</td>\n",
       "      <td>151.092519</td>\n",
       "    </tr>\n",
       "    <tr>\n",
       "      <th>1</th>\n",
       "      <td>GBLPEA16C3KGBO57KEFO</td>\n",
       "      <td>0</td>\n",
       "      <td>0</td>\n",
       "      <td>0</td>\n",
       "      <td>0</td>\n",
       "      <td>26</td>\n",
       "      <td>1</td>\n",
       "      <td>Satellite Broadband</td>\n",
       "      <td>0</td>\n",
       "      <td>1</td>\n",
       "      <td>0</td>\n",
       "      <td>1</td>\n",
       "      <td>Check</td>\n",
       "      <td>56.609623</td>\n",
       "      <td>1553.276979</td>\n",
       "    </tr>\n",
       "    <tr>\n",
       "      <th>2</th>\n",
       "      <td>IDCQS0CO5P29AMKY3LO1</td>\n",
       "      <td>1</td>\n",
       "      <td>0</td>\n",
       "      <td>0</td>\n",
       "      <td>0</td>\n",
       "      <td>66</td>\n",
       "      <td>1</td>\n",
       "      <td>Satellite Broadband</td>\n",
       "      <td>0</td>\n",
       "      <td>0</td>\n",
       "      <td>0</td>\n",
       "      <td>1</td>\n",
       "      <td>Card</td>\n",
       "      <td>25.167690</td>\n",
       "      <td>1684.262416</td>\n",
       "    </tr>\n",
       "    <tr>\n",
       "      <th>3</th>\n",
       "      <td>1IY29SDITYU6IFZ4KJB0</td>\n",
       "      <td>0</td>\n",
       "      <td>1</td>\n",
       "      <td>0</td>\n",
       "      <td>0</td>\n",
       "      <td>31</td>\n",
       "      <td>1</td>\n",
       "      <td>Satellite Broadband</td>\n",
       "      <td>0</td>\n",
       "      <td>0</td>\n",
       "      <td>1</td>\n",
       "      <td>1</td>\n",
       "      <td>Bank</td>\n",
       "      <td>55.560968</td>\n",
       "      <td>1829.874462</td>\n",
       "    </tr>\n",
       "    <tr>\n",
       "      <th>4</th>\n",
       "      <td>T5XMW5B0YPCONH30WJD2</td>\n",
       "      <td>0</td>\n",
       "      <td>0</td>\n",
       "      <td>1</td>\n",
       "      <td>1</td>\n",
       "      <td>21</td>\n",
       "      <td>1</td>\n",
       "      <td>Satellite Broadband</td>\n",
       "      <td>0</td>\n",
       "      <td>0</td>\n",
       "      <td>0</td>\n",
       "      <td>0</td>\n",
       "      <td>Bank</td>\n",
       "      <td>20.070002</td>\n",
       "      <td>489.818170</td>\n",
       "    </tr>\n",
       "  </tbody>\n",
       "</table>\n",
       "</div>"
      ],
      "text/plain": [
       "                     ID  sex  Aged  Married  TotalDependents  ServiceSpan  \\\n",
       "0  WMORTPCG3HTIPEFSGUFY    1     0        0                0            8   \n",
       "1  GBLPEA16C3KGBO57KEFO    0     0        0                0           26   \n",
       "2  IDCQS0CO5P29AMKY3LO1    1     0        0                0           66   \n",
       "3  1IY29SDITYU6IFZ4KJB0    0     1        0                0           31   \n",
       "4  T5XMW5B0YPCONH30WJD2    0     0        1                1           21   \n",
       "\n",
       "   MobileService            4GService  CyberProtection  HardwareSupport  \\\n",
       "0              1       Wifi Broadband                0                0   \n",
       "1              1  Satellite Broadband                0                1   \n",
       "2              1  Satellite Broadband                0                0   \n",
       "3              1  Satellite Broadband                0                0   \n",
       "4              1  Satellite Broadband                0                0   \n",
       "\n",
       "   TechnicalAssistance  FilmSubscription SettlementProcess  QuarterlyPayment  \\\n",
       "0                    0                 1             Check         21.299937   \n",
       "1                    0                 1             Check         56.609623   \n",
       "2                    0                 1              Card         25.167690   \n",
       "3                    1                 1              Bank         55.560968   \n",
       "4                    0                 0              Bank         20.070002   \n",
       "\n",
       "   GrandPayment  \n",
       "0    151.092519  \n",
       "1   1553.276979  \n",
       "2   1684.262416  \n",
       "3   1829.874462  \n",
       "4    489.818170  "
      ]
     },
     "execution_count": 738,
     "metadata": {},
     "output_type": "execute_result"
    }
   ],
   "source": [
    "test.head()"
   ]
  },
  {
   "cell_type": "markdown",
   "metadata": {},
   "source": []
  },
  {
   "cell_type": "code",
   "execution_count": 739,
   "metadata": {},
   "outputs": [
    {
     "data": {
      "image/png": "[encoded data removed]",
      "text/plain": [
       "<Figure size 1080x720 with 2 Axes>"
      ]
     },
     "metadata": {
      "needs_background": "light"
     },
     "output_type": "display_data"
    }
   ],
   "source": [
    "corrmat = train.corr()\n",
    "top_features = corrmat.index\n",
    "plt.figure(figsize=(15,10))\n",
    "sns.heatmap(train[top_features].corr(),annot=True);"
   ]
  },
  {
   "cell_type": "code",
   "execution_count": 740,
   "metadata": {},
   "outputs": [
    {
     "name": "stdout",
     "output_type": "stream",
     "text": [
      "sex                   -0.039800\n",
      "Aged                   0.144672\n",
      "Married               -0.154822\n",
      "TotalDependents       -0.162315\n",
      "ServiceSpan           -0.348284\n",
      "MobileService          0.030120\n",
      "CyberProtection       -0.168867\n",
      "HardwareSupport       -0.068453\n",
      "TechnicalAssistance   -0.164134\n",
      "FilmSubscription      -0.000084\n",
      "QuarterlyPayment       0.189518\n",
      "GrandPayment          -0.195787\n",
      "CustomerAttrition      1.000000\n",
      "Name: CustomerAttrition, dtype: float64\n"
     ]
    }
   ],
   "source": [
    "print(corrmat['CustomerAttrition'])"
   ]
  },
  {
   "cell_type": "code",
   "execution_count": 741,
   "metadata": {},
   "outputs": [],
   "source": [
    "train = pd.get_dummies(data=train, columns=['4GService','SettlementProcess'])"
   ]
  },
  {
   "cell_type": "code",
   "execution_count": 742,
   "metadata": {},
   "outputs": [
    {
     "data": {
      "text/plain": [
       "Index(['ID', 'sex', 'Aged', 'Married', 'TotalDependents', 'ServiceSpan',\n",
       "       'MobileService', 'CyberProtection', 'HardwareSupport',\n",
       "       'TechnicalAssistance', 'FilmSubscription', 'QuarterlyPayment',\n",
       "       'GrandPayment', 'CustomerAttrition', '4GService_No',\n",
       "       '4GService_Satellite Broadband', '4GService_Wifi Broadband',\n",
       "       'SettlementProcess_Bank', 'SettlementProcess_Card',\n",
       "       'SettlementProcess_Check', 'SettlementProcess_Electronic'],\n",
       "      dtype='object')"
      ]
     },
     "execution_count": 742,
     "metadata": {},
     "output_type": "execute_result"
    }
   ],
   "source": [
    "train.columns"
   ]
  },
  {
   "cell_type": "code",
   "execution_count": 743,
   "metadata": {},
   "outputs": [],
   "source": [
    "test = pd.get_dummies(data=test, columns=['4GService','SettlementProcess'])"
   ]
  },
  {
   "cell_type": "code",
   "execution_count": 744,
   "metadata": {
    "scrolled": false
   },
   "outputs": [
    {
     "data": {
      "text/html": [
       "<div>\n",
       "<style scoped>\n",
       "    .dataframe tbody tr th:only-of-type {\n",
       "        vertical-align: middle;\n",
       "    }\n",
       "\n",
       "    .dataframe tbody tr th {\n",
       "        vertical-align: top;\n",
       "    }\n",
       "\n",
       "    .dataframe thead th {\n",
       "        text-align: right;\n",
       "    }\n",
       "</style>\n",
       "<table border=\"1\" class=\"dataframe\">\n",
       "  <thead>\n",
       "    <tr style=\"text-align: right;\">\n",
       "      <th></th>\n",
       "      <th>ID</th>\n",
       "      <th>sex</th>\n",
       "      <th>Aged</th>\n",
       "      <th>Married</th>\n",
       "      <th>TotalDependents</th>\n",
       "      <th>ServiceSpan</th>\n",
       "      <th>MobileService</th>\n",
       "      <th>CyberProtection</th>\n",
       "      <th>HardwareSupport</th>\n",
       "      <th>TechnicalAssistance</th>\n",
       "      <th>FilmSubscription</th>\n",
       "      <th>QuarterlyPayment</th>\n",
       "      <th>GrandPayment</th>\n",
       "      <th>4GService_No</th>\n",
       "      <th>4GService_Satellite Broadband</th>\n",
       "      <th>4GService_Wifi Broadband</th>\n",
       "      <th>SettlementProcess_Bank</th>\n",
       "      <th>SettlementProcess_Card</th>\n",
       "      <th>SettlementProcess_Check</th>\n",
       "      <th>SettlementProcess_Electronic</th>\n",
       "    </tr>\n",
       "  </thead>\n",
       "  <tbody>\n",
       "    <tr>\n",
       "      <th>0</th>\n",
       "      <td>WMORTPCG3HTIPEFSGUFY</td>\n",
       "      <td>1</td>\n",
       "      <td>0</td>\n",
       "      <td>0</td>\n",
       "      <td>0</td>\n",
       "      <td>8</td>\n",
       "      <td>1</td>\n",
       "      <td>0</td>\n",
       "      <td>0</td>\n",
       "      <td>0</td>\n",
       "      <td>1</td>\n",
       "      <td>21.299937</td>\n",
       "      <td>151.092519</td>\n",
       "      <td>0</td>\n",
       "      <td>0</td>\n",
       "      <td>1</td>\n",
       "      <td>0</td>\n",
       "      <td>0</td>\n",
       "      <td>1</td>\n",
       "      <td>0</td>\n",
       "    </tr>\n",
       "    <tr>\n",
       "      <th>1</th>\n",
       "      <td>GBLPEA16C3KGBO57KEFO</td>\n",
       "      <td>0</td>\n",
       "      <td>0</td>\n",
       "      <td>0</td>\n",
       "      <td>0</td>\n",
       "      <td>26</td>\n",
       "      <td>1</td>\n",
       "      <td>0</td>\n",
       "      <td>1</td>\n",
       "      <td>0</td>\n",
       "      <td>1</td>\n",
       "      <td>56.609623</td>\n",
       "      <td>1553.276979</td>\n",
       "      <td>0</td>\n",
       "      <td>1</td>\n",
       "      <td>0</td>\n",
       "      <td>0</td>\n",
       "      <td>0</td>\n",
       "      <td>1</td>\n",
       "      <td>0</td>\n",
       "    </tr>\n",
       "    <tr>\n",
       "      <th>2</th>\n",
       "      <td>IDCQS0CO5P29AMKY3LO1</td>\n",
       "      <td>1</td>\n",
       "      <td>0</td>\n",
       "      <td>0</td>\n",
       "      <td>0</td>\n",
       "      <td>66</td>\n",
       "      <td>1</td>\n",
       "      <td>0</td>\n",
       "      <td>0</td>\n",
       "      <td>0</td>\n",
       "      <td>1</td>\n",
       "      <td>25.167690</td>\n",
       "      <td>1684.262416</td>\n",
       "      <td>0</td>\n",
       "      <td>1</td>\n",
       "      <td>0</td>\n",
       "      <td>0</td>\n",
       "      <td>1</td>\n",
       "      <td>0</td>\n",
       "      <td>0</td>\n",
       "    </tr>\n",
       "    <tr>\n",
       "      <th>3</th>\n",
       "      <td>1IY29SDITYU6IFZ4KJB0</td>\n",
       "      <td>0</td>\n",
       "      <td>1</td>\n",
       "      <td>0</td>\n",
       "      <td>0</td>\n",
       "      <td>31</td>\n",
       "      <td>1</td>\n",
       "      <td>0</td>\n",
       "      <td>0</td>\n",
       "      <td>1</td>\n",
       "      <td>1</td>\n",
       "      <td>55.560968</td>\n",
       "      <td>1829.874462</td>\n",
       "      <td>0</td>\n",
       "      <td>1</td>\n",
       "      <td>0</td>\n",
       "      <td>1</td>\n",
       "      <td>0</td>\n",
       "      <td>0</td>\n",
       "      <td>0</td>\n",
       "    </tr>\n",
       "    <tr>\n",
       "      <th>4</th>\n",
       "      <td>T5XMW5B0YPCONH30WJD2</td>\n",
       "      <td>0</td>\n",
       "      <td>0</td>\n",
       "      <td>1</td>\n",
       "      <td>1</td>\n",
       "      <td>21</td>\n",
       "      <td>1</td>\n",
       "      <td>0</td>\n",
       "      <td>0</td>\n",
       "      <td>0</td>\n",
       "      <td>0</td>\n",
       "      <td>20.070002</td>\n",
       "      <td>489.818170</td>\n",
       "      <td>0</td>\n",
       "      <td>1</td>\n",
       "      <td>0</td>\n",
       "      <td>1</td>\n",
       "      <td>0</td>\n",
       "      <td>0</td>\n",
       "      <td>0</td>\n",
       "    </tr>\n",
       "  </tbody>\n",
       "</table>\n",
       "</div>"
      ],
      "text/plain": [
       "                     ID  sex  Aged  Married  TotalDependents  ServiceSpan  \\\n",
       "0  WMORTPCG3HTIPEFSGUFY    1     0        0                0            8   \n",
       "1  GBLPEA16C3KGBO57KEFO    0     0        0                0           26   \n",
       "2  IDCQS0CO5P29AMKY3LO1    1     0        0                0           66   \n",
       "3  1IY29SDITYU6IFZ4KJB0    0     1        0                0           31   \n",
       "4  T5XMW5B0YPCONH30WJD2    0     0        1                1           21   \n",
       "\n",
       "   MobileService  CyberProtection  HardwareSupport  TechnicalAssistance  \\\n",
       "0              1                0                0                    0   \n",
       "1              1                0                1                    0   \n",
       "2              1                0                0                    0   \n",
       "3              1                0                0                    1   \n",
       "4              1                0                0                    0   \n",
       "\n",
       "   FilmSubscription  QuarterlyPayment  GrandPayment  4GService_No  \\\n",
       "0                 1         21.299937    151.092519             0   \n",
       "1                 1         56.609623   1553.276979             0   \n",
       "2                 1         25.167690   1684.262416             0   \n",
       "3                 1         55.560968   1829.874462             0   \n",
       "4                 0         20.070002    489.818170             0   \n",
       "\n",
       "   4GService_Satellite Broadband  4GService_Wifi Broadband  \\\n",
       "0                              0                         1   \n",
       "1                              1                         0   \n",
       "2                              1                         0   \n",
       "3                              1                         0   \n",
       "4                              1                         0   \n",
       "\n",
       "   SettlementProcess_Bank  SettlementProcess_Card  SettlementProcess_Check  \\\n",
       "0                       0                       0                        1   \n",
       "1                       0                       0                        1   \n",
       "2                       0                       1                        0   \n",
       "3                       1                       0                        0   \n",
       "4                       1                       0                        0   \n",
       "\n",
       "   SettlementProcess_Electronic  \n",
       "0                             0  \n",
       "1                             0  \n",
       "2                             0  \n",
       "3                             0  \n",
       "4                             0  "
      ]
     },
     "execution_count": 744,
     "metadata": {},
     "output_type": "execute_result"
    }
   ],
   "source": [
    "test.head()"
   ]
  },
  {
   "cell_type": "code",
   "execution_count": 745,
   "metadata": {},
   "outputs": [
    {
     "data": {
      "image/png": "[encoded data removed]",
      "text/plain": [
       "<Figure size 1080x720 with 2 Axes>"
      ]
     },
     "metadata": {
      "needs_background": "light"
     },
     "output_type": "display_data"
    }
   ],
   "source": [
    "corrmat = train.corr()\n",
    "top_features = corrmat.index\n",
    "plt.figure(figsize=(15,10))\n",
    "sns.heatmap(train[top_features].corr(),annot=True);"
   ]
  },
  {
   "cell_type": "code",
   "execution_count": 746,
   "metadata": {},
   "outputs": [
    {
     "name": "stdout",
     "output_type": "stream",
     "text": [
      "sex                             -0.039800\n",
      "Aged                             0.144672\n",
      "Married                         -0.154822\n",
      "TotalDependents                 -0.162315\n",
      "ServiceSpan                     -0.348284\n",
      "MobileService                    0.030120\n",
      "CyberProtection                 -0.168867\n",
      "HardwareSupport                 -0.068453\n",
      "TechnicalAssistance             -0.164134\n",
      "FilmSubscription                -0.000084\n",
      "QuarterlyPayment                 0.189518\n",
      "GrandPayment                    -0.195787\n",
      "CustomerAttrition                1.000000\n",
      "4GService_No                    -0.000302\n",
      "4GService_Satellite Broadband    0.002219\n",
      "4GService_Wifi Broadband        -0.001872\n",
      "SettlementProcess_Bank          -0.120469\n",
      "SettlementProcess_Card          -0.135592\n",
      "SettlementProcess_Check         -0.084314\n",
      "SettlementProcess_Electronic     0.298295\n",
      "Name: CustomerAttrition, dtype: float64\n"
     ]
    }
   ],
   "source": [
    "print(corrmat['CustomerAttrition'])"
   ]
  },
  {
   "cell_type": "code",
   "execution_count": 747,
   "metadata": {},
   "outputs": [],
   "source": [
    "#col_remove=['sex','HardwareSupport','FilmSubscription']\n",
    "#train.drop(labels =col_remove,axis = 1 , inplace = True)"
   ]
  },
  {
   "cell_type": "code",
   "execution_count": 748,
   "metadata": {},
   "outputs": [
    {
     "data": {
      "text/html": [
       "<div>\n",
       "<style scoped>\n",
       "    .dataframe tbody tr th:only-of-type {\n",
       "        vertical-align: middle;\n",
       "    }\n",
       "\n",
       "    .dataframe tbody tr th {\n",
       "        vertical-align: top;\n",
       "    }\n",
       "\n",
       "    .dataframe thead th {\n",
       "        text-align: right;\n",
       "    }\n",
       "</style>\n",
       "<table border=\"1\" class=\"dataframe\">\n",
       "  <thead>\n",
       "    <tr style=\"text-align: right;\">\n",
       "      <th></th>\n",
       "      <th>ID</th>\n",
       "      <th>sex</th>\n",
       "      <th>Aged</th>\n",
       "      <th>Married</th>\n",
       "      <th>TotalDependents</th>\n",
       "      <th>ServiceSpan</th>\n",
       "      <th>MobileService</th>\n",
       "      <th>CyberProtection</th>\n",
       "      <th>HardwareSupport</th>\n",
       "      <th>TechnicalAssistance</th>\n",
       "      <th>...</th>\n",
       "      <th>QuarterlyPayment</th>\n",
       "      <th>GrandPayment</th>\n",
       "      <th>CustomerAttrition</th>\n",
       "      <th>4GService_No</th>\n",
       "      <th>4GService_Satellite Broadband</th>\n",
       "      <th>4GService_Wifi Broadband</th>\n",
       "      <th>SettlementProcess_Bank</th>\n",
       "      <th>SettlementProcess_Card</th>\n",
       "      <th>SettlementProcess_Check</th>\n",
       "      <th>SettlementProcess_Electronic</th>\n",
       "    </tr>\n",
       "  </thead>\n",
       "  <tbody>\n",
       "    <tr>\n",
       "      <th>0</th>\n",
       "      <td>B60LHTZLLPFU4IULNPUF</td>\n",
       "      <td>0</td>\n",
       "      <td>0</td>\n",
       "      <td>0</td>\n",
       "      <td>1</td>\n",
       "      <td>48</td>\n",
       "      <td>1</td>\n",
       "      <td>0</td>\n",
       "      <td>1</td>\n",
       "      <td>1</td>\n",
       "      <td>...</td>\n",
       "      <td>96.259802</td>\n",
       "      <td>4628.129119</td>\n",
       "      <td>1</td>\n",
       "      <td>0</td>\n",
       "      <td>0</td>\n",
       "      <td>1</td>\n",
       "      <td>0</td>\n",
       "      <td>0</td>\n",
       "      <td>1</td>\n",
       "      <td>0</td>\n",
       "    </tr>\n",
       "    <tr>\n",
       "      <th>1</th>\n",
       "      <td>1RUJ7ONYZHYTWKOKO1SD</td>\n",
       "      <td>1</td>\n",
       "      <td>0</td>\n",
       "      <td>1</td>\n",
       "      <td>0</td>\n",
       "      <td>45</td>\n",
       "      <td>1</td>\n",
       "      <td>0</td>\n",
       "      <td>0</td>\n",
       "      <td>0</td>\n",
       "      <td>...</td>\n",
       "      <td>18.876470</td>\n",
       "      <td>922.085998</td>\n",
       "      <td>0</td>\n",
       "      <td>0</td>\n",
       "      <td>0</td>\n",
       "      <td>1</td>\n",
       "      <td>1</td>\n",
       "      <td>0</td>\n",
       "      <td>0</td>\n",
       "      <td>0</td>\n",
       "    </tr>\n",
       "    <tr>\n",
       "      <th>2</th>\n",
       "      <td>DZ9EEOQWSN0MYCBUPAM5</td>\n",
       "      <td>1</td>\n",
       "      <td>1</td>\n",
       "      <td>1</td>\n",
       "      <td>0</td>\n",
       "      <td>59</td>\n",
       "      <td>1</td>\n",
       "      <td>1</td>\n",
       "      <td>0</td>\n",
       "      <td>1</td>\n",
       "      <td>...</td>\n",
       "      <td>106.016057</td>\n",
       "      <td>6205.891129</td>\n",
       "      <td>1</td>\n",
       "      <td>0</td>\n",
       "      <td>0</td>\n",
       "      <td>1</td>\n",
       "      <td>0</td>\n",
       "      <td>1</td>\n",
       "      <td>0</td>\n",
       "      <td>0</td>\n",
       "    </tr>\n",
       "    <tr>\n",
       "      <th>3</th>\n",
       "      <td>YZ43L1UQUQACTL1PXXZG</td>\n",
       "      <td>1</td>\n",
       "      <td>0</td>\n",
       "      <td>0</td>\n",
       "      <td>0</td>\n",
       "      <td>14</td>\n",
       "      <td>1</td>\n",
       "      <td>0</td>\n",
       "      <td>0</td>\n",
       "      <td>0</td>\n",
       "      <td>...</td>\n",
       "      <td>80.108839</td>\n",
       "      <td>1248.655391</td>\n",
       "      <td>0</td>\n",
       "      <td>0</td>\n",
       "      <td>0</td>\n",
       "      <td>1</td>\n",
       "      <td>0</td>\n",
       "      <td>0</td>\n",
       "      <td>1</td>\n",
       "      <td>0</td>\n",
       "    </tr>\n",
       "    <tr>\n",
       "      <th>4</th>\n",
       "      <td>6P28152QGF60PDLSCB9M</td>\n",
       "      <td>0</td>\n",
       "      <td>0</td>\n",
       "      <td>1</td>\n",
       "      <td>1</td>\n",
       "      <td>25</td>\n",
       "      <td>1</td>\n",
       "      <td>0</td>\n",
       "      <td>1</td>\n",
       "      <td>0</td>\n",
       "      <td>...</td>\n",
       "      <td>51.529773</td>\n",
       "      <td>1285.321277</td>\n",
       "      <td>0</td>\n",
       "      <td>0</td>\n",
       "      <td>0</td>\n",
       "      <td>1</td>\n",
       "      <td>0</td>\n",
       "      <td>0</td>\n",
       "      <td>1</td>\n",
       "      <td>0</td>\n",
       "    </tr>\n",
       "  </tbody>\n",
       "</table>\n",
       "<p>5 rows × 21 columns</p>\n",
       "</div>"
      ],
      "text/plain": [
       "                     ID  sex  Aged  Married  TotalDependents  ServiceSpan  \\\n",
       "0  B60LHTZLLPFU4IULNPUF    0     0        0                1           48   \n",
       "1  1RUJ7ONYZHYTWKOKO1SD    1     0        1                0           45   \n",
       "2  DZ9EEOQWSN0MYCBUPAM5    1     1        1                0           59   \n",
       "3  YZ43L1UQUQACTL1PXXZG    1     0        0                0           14   \n",
       "4  6P28152QGF60PDLSCB9M    0     0        1                1           25   \n",
       "\n",
       "   MobileService  CyberProtection  HardwareSupport  TechnicalAssistance  \\\n",
       "0              1                0                1                    1   \n",
       "1              1                0                0                    0   \n",
       "2              1                1                0                    1   \n",
       "3              1                0                0                    0   \n",
       "4              1                0                1                    0   \n",
       "\n",
       "               ...               QuarterlyPayment  GrandPayment  \\\n",
       "0              ...                      96.259802   4628.129119   \n",
       "1              ...                      18.876470    922.085998   \n",
       "2              ...                     106.016057   6205.891129   \n",
       "3              ...                      80.108839   1248.655391   \n",
       "4              ...                      51.529773   1285.321277   \n",
       "\n",
       "   CustomerAttrition  4GService_No  4GService_Satellite Broadband  \\\n",
       "0                  1             0                              0   \n",
       "1                  0             0                              0   \n",
       "2                  1             0                              0   \n",
       "3                  0             0                              0   \n",
       "4                  0             0                              0   \n",
       "\n",
       "   4GService_Wifi Broadband  SettlementProcess_Bank  SettlementProcess_Card  \\\n",
       "0                         1                       0                       0   \n",
       "1                         1                       1                       0   \n",
       "2                         1                       0                       1   \n",
       "3                         1                       0                       0   \n",
       "4                         1                       0                       0   \n",
       "\n",
       "   SettlementProcess_Check  SettlementProcess_Electronic  \n",
       "0                        1                             0  \n",
       "1                        0                             0  \n",
       "2                        0                             0  \n",
       "3                        1                             0  \n",
       "4                        1                             0  \n",
       "\n",
       "[5 rows x 21 columns]"
      ]
     },
     "execution_count": 748,
     "metadata": {},
     "output_type": "execute_result"
    }
   ],
   "source": [
    "train.head()"
   ]
  },
  {
   "cell_type": "code",
   "execution_count": 749,
   "metadata": {},
   "outputs": [],
   "source": [
    "#col_remove_t=['sex','HardwareSupport','FilmSubscription']\n",
    "#test.drop(labels =col_remove_t,axis = 1 , inplace = True)"
   ]
  },
  {
   "cell_type": "code",
   "execution_count": 750,
   "metadata": {},
   "outputs": [
    {
     "data": {
      "text/html": [
       "<div>\n",
       "<style scoped>\n",
       "    .dataframe tbody tr th:only-of-type {\n",
       "        vertical-align: middle;\n",
       "    }\n",
       "\n",
       "    .dataframe tbody tr th {\n",
       "        vertical-align: top;\n",
       "    }\n",
       "\n",
       "    .dataframe thead th {\n",
       "        text-align: right;\n",
       "    }\n",
       "</style>\n",
       "<table border=\"1\" class=\"dataframe\">\n",
       "  <thead>\n",
       "    <tr style=\"text-align: right;\">\n",
       "      <th></th>\n",
       "      <th>ID</th>\n",
       "      <th>sex</th>\n",
       "      <th>Aged</th>\n",
       "      <th>Married</th>\n",
       "      <th>TotalDependents</th>\n",
       "      <th>ServiceSpan</th>\n",
       "      <th>MobileService</th>\n",
       "      <th>CyberProtection</th>\n",
       "      <th>HardwareSupport</th>\n",
       "      <th>TechnicalAssistance</th>\n",
       "      <th>FilmSubscription</th>\n",
       "      <th>QuarterlyPayment</th>\n",
       "      <th>GrandPayment</th>\n",
       "      <th>4GService_No</th>\n",
       "      <th>4GService_Satellite Broadband</th>\n",
       "      <th>4GService_Wifi Broadband</th>\n",
       "      <th>SettlementProcess_Bank</th>\n",
       "      <th>SettlementProcess_Card</th>\n",
       "      <th>SettlementProcess_Check</th>\n",
       "      <th>SettlementProcess_Electronic</th>\n",
       "    </tr>\n",
       "  </thead>\n",
       "  <tbody>\n",
       "    <tr>\n",
       "      <th>0</th>\n",
       "      <td>WMORTPCG3HTIPEFSGUFY</td>\n",
       "      <td>1</td>\n",
       "      <td>0</td>\n",
       "      <td>0</td>\n",
       "      <td>0</td>\n",
       "      <td>8</td>\n",
       "      <td>1</td>\n",
       "      <td>0</td>\n",
       "      <td>0</td>\n",
       "      <td>0</td>\n",
       "      <td>1</td>\n",
       "      <td>21.299937</td>\n",
       "      <td>151.092519</td>\n",
       "      <td>0</td>\n",
       "      <td>0</td>\n",
       "      <td>1</td>\n",
       "      <td>0</td>\n",
       "      <td>0</td>\n",
       "      <td>1</td>\n",
       "      <td>0</td>\n",
       "    </tr>\n",
       "    <tr>\n",
       "      <th>1</th>\n",
       "      <td>GBLPEA16C3KGBO57KEFO</td>\n",
       "      <td>0</td>\n",
       "      <td>0</td>\n",
       "      <td>0</td>\n",
       "      <td>0</td>\n",
       "      <td>26</td>\n",
       "      <td>1</td>\n",
       "      <td>0</td>\n",
       "      <td>1</td>\n",
       "      <td>0</td>\n",
       "      <td>1</td>\n",
       "      <td>56.609623</td>\n",
       "      <td>1553.276979</td>\n",
       "      <td>0</td>\n",
       "      <td>1</td>\n",
       "      <td>0</td>\n",
       "      <td>0</td>\n",
       "      <td>0</td>\n",
       "      <td>1</td>\n",
       "      <td>0</td>\n",
       "    </tr>\n",
       "    <tr>\n",
       "      <th>2</th>\n",
       "      <td>IDCQS0CO5P29AMKY3LO1</td>\n",
       "      <td>1</td>\n",
       "      <td>0</td>\n",
       "      <td>0</td>\n",
       "      <td>0</td>\n",
       "      <td>66</td>\n",
       "      <td>1</td>\n",
       "      <td>0</td>\n",
       "      <td>0</td>\n",
       "      <td>0</td>\n",
       "      <td>1</td>\n",
       "      <td>25.167690</td>\n",
       "      <td>1684.262416</td>\n",
       "      <td>0</td>\n",
       "      <td>1</td>\n",
       "      <td>0</td>\n",
       "      <td>0</td>\n",
       "      <td>1</td>\n",
       "      <td>0</td>\n",
       "      <td>0</td>\n",
       "    </tr>\n",
       "    <tr>\n",
       "      <th>3</th>\n",
       "      <td>1IY29SDITYU6IFZ4KJB0</td>\n",
       "      <td>0</td>\n",
       "      <td>1</td>\n",
       "      <td>0</td>\n",
       "      <td>0</td>\n",
       "      <td>31</td>\n",
       "      <td>1</td>\n",
       "      <td>0</td>\n",
       "      <td>0</td>\n",
       "      <td>1</td>\n",
       "      <td>1</td>\n",
       "      <td>55.560968</td>\n",
       "      <td>1829.874462</td>\n",
       "      <td>0</td>\n",
       "      <td>1</td>\n",
       "      <td>0</td>\n",
       "      <td>1</td>\n",
       "      <td>0</td>\n",
       "      <td>0</td>\n",
       "      <td>0</td>\n",
       "    </tr>\n",
       "    <tr>\n",
       "      <th>4</th>\n",
       "      <td>T5XMW5B0YPCONH30WJD2</td>\n",
       "      <td>0</td>\n",
       "      <td>0</td>\n",
       "      <td>1</td>\n",
       "      <td>1</td>\n",
       "      <td>21</td>\n",
       "      <td>1</td>\n",
       "      <td>0</td>\n",
       "      <td>0</td>\n",
       "      <td>0</td>\n",
       "      <td>0</td>\n",
       "      <td>20.070002</td>\n",
       "      <td>489.818170</td>\n",
       "      <td>0</td>\n",
       "      <td>1</td>\n",
       "      <td>0</td>\n",
       "      <td>1</td>\n",
       "      <td>0</td>\n",
       "      <td>0</td>\n",
       "      <td>0</td>\n",
       "    </tr>\n",
       "  </tbody>\n",
       "</table>\n",
       "</div>"
      ],
      "text/plain": [
       "                     ID  sex  Aged  Married  TotalDependents  ServiceSpan  \\\n",
       "0  WMORTPCG3HTIPEFSGUFY    1     0        0                0            8   \n",
       "1  GBLPEA16C3KGBO57KEFO    0     0        0                0           26   \n",
       "2  IDCQS0CO5P29AMKY3LO1    1     0        0                0           66   \n",
       "3  1IY29SDITYU6IFZ4KJB0    0     1        0                0           31   \n",
       "4  T5XMW5B0YPCONH30WJD2    0     0        1                1           21   \n",
       "\n",
       "   MobileService  CyberProtection  HardwareSupport  TechnicalAssistance  \\\n",
       "0              1                0                0                    0   \n",
       "1              1                0                1                    0   \n",
       "2              1                0                0                    0   \n",
       "3              1                0                0                    1   \n",
       "4              1                0                0                    0   \n",
       "\n",
       "   FilmSubscription  QuarterlyPayment  GrandPayment  4GService_No  \\\n",
       "0                 1         21.299937    151.092519             0   \n",
       "1                 1         56.609623   1553.276979             0   \n",
       "2                 1         25.167690   1684.262416             0   \n",
       "3                 1         55.560968   1829.874462             0   \n",
       "4                 0         20.070002    489.818170             0   \n",
       "\n",
       "   4GService_Satellite Broadband  4GService_Wifi Broadband  \\\n",
       "0                              0                         1   \n",
       "1                              1                         0   \n",
       "2                              1                         0   \n",
       "3                              1                         0   \n",
       "4                              1                         0   \n",
       "\n",
       "   SettlementProcess_Bank  SettlementProcess_Card  SettlementProcess_Check  \\\n",
       "0                       0                       0                        1   \n",
       "1                       0                       0                        1   \n",
       "2                       0                       1                        0   \n",
       "3                       1                       0                        0   \n",
       "4                       1                       0                        0   \n",
       "\n",
       "   SettlementProcess_Electronic  \n",
       "0                             0  \n",
       "1                             0  \n",
       "2                             0  \n",
       "3                             0  \n",
       "4                             0  "
      ]
     },
     "execution_count": 750,
     "metadata": {},
     "output_type": "execute_result"
    }
   ],
   "source": [
    "test.head()"
   ]
  },
  {
   "cell_type": "code",
   "execution_count": 751,
   "metadata": {},
   "outputs": [],
   "source": [
    "#del train['GrandPayment']"
   ]
  },
  {
   "cell_type": "code",
   "execution_count": 752,
   "metadata": {},
   "outputs": [],
   "source": [
    "#del test['GrandPayment']"
   ]
  },
  {
   "cell_type": "code",
   "execution_count": 753,
   "metadata": {},
   "outputs": [],
   "source": [
    "#train.head()"
   ]
  },
  {
   "cell_type": "code",
   "execution_count": 754,
   "metadata": {},
   "outputs": [],
   "source": [
    "#test.head()"
   ]
  },
  {
   "cell_type": "code",
   "execution_count": 755,
   "metadata": {},
   "outputs": [],
   "source": [
    "#x = train"
   ]
  },
  {
   "cell_type": "code",
   "execution_count": 756,
   "metadata": {},
   "outputs": [],
   "source": [
    "#col_remove = ['ID','CustomerAttrition']\n",
    "#x.drop(labels = col_remove,axis=1,inplace=True)"
   ]
  },
  {
   "cell_type": "code",
   "execution_count": 757,
   "metadata": {},
   "outputs": [
    {
     "data": {
      "text/plain": [
       "Index(['ID', 'sex', 'Aged', 'Married', 'TotalDependents', 'ServiceSpan',\n",
       "       'MobileService', 'CyberProtection', 'HardwareSupport',\n",
       "       'TechnicalAssistance', 'FilmSubscription', 'QuarterlyPayment',\n",
       "       'GrandPayment', 'CustomerAttrition', '4GService_No',\n",
       "       '4GService_Satellite Broadband', '4GService_Wifi Broadband',\n",
       "       'SettlementProcess_Bank', 'SettlementProcess_Card',\n",
       "       'SettlementProcess_Check', 'SettlementProcess_Electronic'],\n",
       "      dtype='object')"
      ]
     },
     "execution_count": 757,
     "metadata": {},
     "output_type": "execute_result"
    }
   ],
   "source": [
    "train.columns"
   ]
  },
  {
   "cell_type": "code",
   "execution_count": 758,
   "metadata": {},
   "outputs": [],
   "source": [
    "#feature_names =['Aged', 'Married', 'TotalDependents', 'ServiceSpan',\n",
    "    #   'MobileService', 'CyberProtection', 'TechnicalAssistance',\n",
    "   #    'QuarterlyPayment', 'GrandPayment',\n",
    "  #     '4GService_Satellite Broadband', 'SettlementProcess_Bank',\n",
    " #      'SettlementProcess_Card', 'SettlementProcess_Electronic']\n",
    "#X = train[feature_names]\n",
    "#y = train.CustomerAttrition"
   ]
  },
  {
   "cell_type": "code",
   "execution_count": 759,
   "metadata": {},
   "outputs": [],
   "source": [
    "#X_train, X_test, y_train, y_test = train_test_split(X,y,test_size=0.25,random_state=150)"
   ]
  },
  {
   "cell_type": "code",
   "execution_count": 760,
   "metadata": {},
   "outputs": [],
   "source": [
    "#from imblearn.under_sampling import RandomUnderSampler\n",
    "#oversample = RandomUnderSampler(sampling_strategy='minority')"
   ]
  },
  {
   "cell_type": "code",
   "execution_count": 761,
   "metadata": {},
   "outputs": [],
   "source": [
    "# fit and transform the data\n",
    "#scaled_data = scaler.fit_transform(X)"
   ]
  },
  {
   "cell_type": "markdown",
   "metadata": {},
   "source": [
    "# Oversampling"
   ]
  },
  {
   "cell_type": "code",
   "execution_count": 762,
   "metadata": {},
   "outputs": [
    {
     "data": {
      "text/plain": [
       "0    4658\n",
       "1    1680\n",
       "Name: CustomerAttrition, dtype: int64"
      ]
     },
     "execution_count": 762,
     "metadata": {},
     "output_type": "execute_result"
    }
   ],
   "source": [
    "train['CustomerAttrition'].value_counts()"
   ]
  },
  {
   "cell_type": "code",
   "execution_count": 763,
   "metadata": {},
   "outputs": [],
   "source": [
    "df_class_1=train[train['CustomerAttrition']==1]\n",
    "df_class_0=train[train['CustomerAttrition']==0]"
   ]
  },
  {
   "cell_type": "code",
   "execution_count": 764,
   "metadata": {},
   "outputs": [],
   "source": [
    "df_class_1_over = df_class_1.sample(4658, replace =True)"
   ]
  },
  {
   "cell_type": "code",
   "execution_count": 765,
   "metadata": {},
   "outputs": [
    {
     "data": {
      "text/plain": [
       "(4658, 21)"
      ]
     },
     "execution_count": 765,
     "metadata": {},
     "output_type": "execute_result"
    }
   ],
   "source": [
    "df_class_1_over.shape"
   ]
  },
  {
   "cell_type": "markdown",
   "metadata": {},
   "source": [
    "# Undersampling"
   ]
  },
  {
   "cell_type": "code",
   "execution_count": 766,
   "metadata": {},
   "outputs": [],
   "source": [
    "#df_class_0_over = df_class_0.sample(, replace =True)"
   ]
  },
  {
   "cell_type": "code",
   "execution_count": 767,
   "metadata": {},
   "outputs": [],
   "source": [
    "#df_class_0_over.shape"
   ]
  },
  {
   "cell_type": "code",
   "execution_count": 768,
   "metadata": {},
   "outputs": [
    {
     "name": "stdout",
     "output_type": "stream",
     "text": [
      "Random over-sampling:\n",
      "1    4658\n",
      "0    4658\n",
      "Name: CustomerAttrition, dtype: int64\n"
     ]
    }
   ],
   "source": [
    "df_test_over = pd.concat([df_class_0,df_class_1_over], axis = 0)\n",
    "print('Random over-sampling:')\n",
    "print(df_test_over.CustomerAttrition.value_counts())"
   ]
  },
  {
   "cell_type": "code",
   "execution_count": 769,
   "metadata": {},
   "outputs": [],
   "source": [
    "y = df_test_over['CustomerAttrition']\n",
    "X = df_test_over.drop(['CustomerAttrition','ID'],axis=1)\n"
   ]
  },
  {
   "cell_type": "markdown",
   "metadata": {},
   "source": [
    "After Oversampling, The important part is to Standardize the data for which mean will be equal to 0 and standard deviation will be 1."
   ]
  },
  {
   "cell_type": "code",
   "execution_count": 677,
   "metadata": {},
   "outputs": [],
   "source": [
    "from sklearn.preprocessing import MinMaxScaler\n",
    "from sklearn.preprocessing import StandardScaler\n",
    "s = StandardScaler()"
   ]
  },
  {
   "cell_type": "code",
   "execution_count": 678,
   "metadata": {},
   "outputs": [],
   "source": [
    "Featur_num_X_t= X.iloc[:,[10,11]].values"
   ]
  },
  {
   "cell_type": "code",
   "execution_count": 679,
   "metadata": {},
   "outputs": [
    {
     "data": {
      "text/plain": [
       "array([[  18.87647016,  922.0859985 ],\n",
       "       [  80.10883859, 1248.655391  ],\n",
       "       [  51.52977334, 1285.321277  ],\n",
       "       ...,\n",
       "       [  93.5724047 ,  462.323053  ],\n",
       "       [  81.53286061, 1853.380412  ],\n",
       "       [  90.23126562, 2177.290776  ]])"
      ]
     },
     "execution_count": 679,
     "metadata": {},
     "output_type": "execute_result"
    }
   ],
   "source": [
    "Featur_num_X_t"
   ]
  },
  {
   "cell_type": "code",
   "execution_count": 680,
   "metadata": {},
   "outputs": [],
   "source": [
    "Featur_num_X_t2 = X.iloc[:,[4]].values"
   ]
  },
  {
   "cell_type": "code",
   "execution_count": 681,
   "metadata": {},
   "outputs": [],
   "source": [
    "del X['ServiceSpan']\n",
    "del X['QuarterlyPayment']\n",
    "del X['GrandPayment']\n"
   ]
  },
  {
   "cell_type": "code",
   "execution_count": 682,
   "metadata": {},
   "outputs": [],
   "source": [
    "xx = s.fit_transform(Featur_num_X_t)"
   ]
  },
  {
   "cell_type": "code",
   "execution_count": 683,
   "metadata": {},
   "outputs": [],
   "source": [
    "s = MinMaxScaler(feature_range=(-1,1))\n",
    "xxx=s.fit_transform(Featur_num_X_t2)"
   ]
  },
  {
   "cell_type": "code",
   "execution_count": 684,
   "metadata": {},
   "outputs": [],
   "source": [
    "X = np.concatenate((X,xx,xxx), axis=1)"
   ]
  },
  {
   "cell_type": "code",
   "execution_count": 685,
   "metadata": {},
   "outputs": [
    {
     "data": {
      "text/plain": [
       "(9316, 19)"
      ]
     },
     "execution_count": 685,
     "metadata": {},
     "output_type": "execute_result"
    }
   ],
   "source": [
    "X.shape"
   ]
  },
  {
   "cell_type": "code",
   "execution_count": 775,
   "metadata": {},
   "outputs": [
    {
     "data": {
      "text/plain": [
       "sex                              0\n",
       "Aged                             0\n",
       "Married                          0\n",
       "TotalDependents                  0\n",
       "ServiceSpan                      0\n",
       "MobileService                    0\n",
       "CyberProtection                  0\n",
       "HardwareSupport                  0\n",
       "TechnicalAssistance              0\n",
       "FilmSubscription                 0\n",
       "QuarterlyPayment                 0\n",
       "GrandPayment                     0\n",
       "4GService_No                     0\n",
       "4GService_Satellite Broadband    0\n",
       "4GService_Wifi Broadband         0\n",
       "SettlementProcess_Bank           0\n",
       "SettlementProcess_Card           0\n",
       "SettlementProcess_Check          0\n",
       "SettlementProcess_Electronic     0\n",
       "dtype: int64"
      ]
     },
     "execution_count": 775,
     "metadata": {},
     "output_type": "execute_result"
    }
   ],
   "source": [
    "X.isnull().sum()"
   ]
  },
  {
   "cell_type": "code",
   "execution_count": 770,
   "metadata": {},
   "outputs": [],
   "source": [
    "from sklearn import ensemble\n",
    "from sklearn.model_selection import StratifiedKFold, cross_validate"
   ]
  },
  {
   "cell_type": "code",
   "execution_count": 776,
   "metadata": {},
   "outputs": [],
   "source": [
    "def stratified_cv(X, y, clf_class, shuffle=True, n_folds=10, **kwargs):\n",
    "    stratified_k_fold = StratifiedKFold(n_splits=n_folds)\n",
    "    stratified_k_fold.get_n_splits(X,y)\n",
    "    y_pred = y.copy()\n",
    "    # ii -> train\n",
    "    # jj -> test indices\n",
    "    for ii, jj in stratified_k_fold.split(X,y):\n",
    "        X_train, X_test = X[ii], X[jj]\n",
    "        y_train = y[ii]\n",
    "        clf = clf_class(**kwargs)\n",
    "        clf.fit(X_train,y_train)\n",
    "        y_pred[jj] = clf.predict(X_test)\n",
    "    return y_pred\n"
   ]
  },
  {
   "cell_type": "code",
   "execution_count": 809,
   "metadata": {},
   "outputs": [],
   "source": [
    "test_id = test.ID"
   ]
  },
  {
   "cell_type": "code",
   "execution_count": 810,
   "metadata": {},
   "outputs": [],
   "source": [
    "del test['ID']"
   ]
  },
  {
   "cell_type": "code",
   "execution_count": 367,
   "metadata": {},
   "outputs": [],
   "source": [
    "s=StandardScaler()\n",
    "Featur_num_X_test= test.iloc[:,[10,11]].values\n",
    "Featur_num_X_test1= test.iloc[:,[4]].values\n",
    "del test['ServiceSpan']\n",
    "del test['QuarterlyPayment']\n",
    "del test['GrandPayment']\n",
    "x_test = s.fit_transform(Featur_num_X_test)\n",
    "s=MinMaxScaler(feature_range=(-1,1))\n",
    "xx_test = s.fit_transform(Featur_num_X_test1)\n",
    "test = np.concatenate((test,x_test,xx_test), axis=1)"
   ]
  },
  {
   "cell_type": "code",
   "execution_count": 401,
   "metadata": {},
   "outputs": [
    {
     "data": {
      "text/plain": [
       "(705, 19)"
      ]
     },
     "execution_count": 401,
     "metadata": {},
     "output_type": "execute_result"
    }
   ],
   "source": [
    "test.shape"
   ]
  },
  {
   "cell_type": "markdown",
   "metadata": {},
   "source": [
    "# Random Forest"
   ]
  },
  {
   "cell_type": "code",
   "execution_count": 805,
   "metadata": {},
   "outputs": [],
   "source": [
    "from sklearn.model_selection import train_test_split\n",
    "X_train,X_test, y_train, y_test = train_test_split(X, y, test_size=0.2, random_state=150, stratify=y)"
   ]
  },
  {
   "cell_type": "code",
   "execution_count": 806,
   "metadata": {},
   "outputs": [],
   "source": [
    "model = RandomForestClassifier(bootstrap=False)\n",
    "model.fit(X_train, y_train)\n",
    "predictions=model.predict(X_test)"
   ]
  },
  {
   "cell_type": "code",
   "execution_count": 807,
   "metadata": {},
   "outputs": [
    {
     "name": "stdout",
     "output_type": "stream",
     "text": [
      "              precision    recall  f1-score   support\n",
      "\n",
      "           0       0.95      0.89      0.92       932\n",
      "           1       0.90      0.95      0.92       932\n",
      "\n",
      "    accuracy                           0.92      1864\n",
      "   macro avg       0.92      0.92      0.92      1864\n",
      "weighted avg       0.92      0.92      0.92      1864\n",
      "\n",
      "0.921137339055794\n"
     ]
    }
   ],
   "source": [
    "from sklearn.metrics import classification_report, confusion_matrix\n",
    "print(classification_report(y_test,predictions))\n",
    "print(accuracy_score(y_test, predictions))"
   ]
  },
  {
   "cell_type": "code",
   "execution_count": 808,
   "metadata": {},
   "outputs": [
    {
     "name": "stdout",
     "output_type": "stream",
     "text": [
      "[[832 100]\n",
      " [ 47 885]]\n"
     ]
    }
   ],
   "source": [
    "print(confusion_matrix(y_test,predictions))"
   ]
  },
  {
   "cell_type": "code",
   "execution_count": 800,
   "metadata": {},
   "outputs": [],
   "source": [
    "from sklearn.model_selection import cross_val_score\n",
    "scores = cross_val_score(model, X, y, cv=10)"
   ]
  },
  {
   "cell_type": "code",
   "execution_count": 801,
   "metadata": {},
   "outputs": [
    {
     "data": {
      "text/plain": [
       "array([0.94206009, 0.91309013, 0.91845494, 0.9388412 , 0.93133047,\n",
       "       0.92918455, 0.92373792, 0.91836735, 0.94199785, 0.90655209])"
      ]
     },
     "execution_count": 801,
     "metadata": {},
     "output_type": "execute_result"
    }
   ],
   "source": [
    "scores"
   ]
  },
  {
   "cell_type": "code",
   "execution_count": 373,
   "metadata": {},
   "outputs": [
    {
     "data": {
      "text/plain": [
       "sex                             -0.039800\n",
       "Aged                             0.144672\n",
       "Married                         -0.154822\n",
       "TotalDependents                 -0.162315\n",
       "ServiceSpan                     -0.348284\n",
       "MobileService                    0.030120\n",
       "CyberProtection                 -0.168867\n",
       "HardwareSupport                 -0.068453\n",
       "TechnicalAssistance             -0.164134\n",
       "FilmSubscription                -0.000084\n",
       "QuarterlyPayment                 0.189518\n",
       "GrandPayment                    -0.195787\n",
       "CustomerAttrition                1.000000\n",
       "4GService_No                    -0.000302\n",
       "4GService_Satellite Broadband    0.002219\n",
       "4GService_Wifi Broadband        -0.001872\n",
       "SettlementProcess_Bank          -0.120469\n",
       "SettlementProcess_Card          -0.135592\n",
       "SettlementProcess_Check         -0.084314\n",
       "SettlementProcess_Electronic     0.298295\n",
       "Name: CustomerAttrition, dtype: float64"
      ]
     },
     "execution_count": 373,
     "metadata": {},
     "output_type": "execute_result"
    }
   ],
   "source": [
    "train.corr()['CustomerAttrition']"
   ]
  },
  {
   "cell_type": "code",
   "execution_count": 77,
   "metadata": {},
   "outputs": [
    {
     "data": {
      "text/plain": [
       "dtype('O')"
      ]
     },
     "execution_count": 77,
     "metadata": {},
     "output_type": "execute_result"
    }
   ],
   "source": [
    "test_id.dtype"
   ]
  },
  {
   "cell_type": "code",
   "execution_count": 78,
   "metadata": {
    "scrolled": true
   },
   "outputs": [
    {
     "data": {
      "text/plain": [
       "0      WMORTPCG3HTIPEFSGUFY\n",
       "1      GBLPEA16C3KGBO57KEFO\n",
       "2      IDCQS0CO5P29AMKY3LO1\n",
       "3      1IY29SDITYU6IFZ4KJB0\n",
       "4      T5XMW5B0YPCONH30WJD2\n",
       "5      9BZTYMBY9E0N7PJ9RIXE\n",
       "6      S8UD0H3GT1RF8PDUTIB4\n",
       "7      7OIMLC8BT2KAQOXTQXB4\n",
       "8      CUY8I3DUZMFQ9WKQQWHA\n",
       "9      J6BA9F4BQBF9J89NNFDM\n",
       "10     HCE96FQHNJDYEIPADIH4\n",
       "11     YU8K9OAO0X3DZP9IEEW2\n",
       "12     YM79ZICKUAYNIJ0XYY2F\n",
       "13     BG643H6OJ5D7DQD86A7N\n",
       "14     QFLE5D8WQMJ0SSZ87AZA\n",
       "15     3X75RRGID6M0GOZ8IBJU\n",
       "16     1LOPA00K2199GN4CH1PS\n",
       "17     KN40YX4BM7A1TWC5C8EU\n",
       "18     450RPE8BBCBKWRJBKCSC\n",
       "19     WHER1J83FIR0OT02TG2Y\n",
       "20     KMN55YPQ2O0A8HI4FKHF\n",
       "21     218JJG5TRNP64KSBIFR4\n",
       "22     KEFTUS3K74LWKZT460TL\n",
       "23     AECZGA7TQU6IQDNKXZE2\n",
       "24     8M85UG8S4TO0MF825QJX\n",
       "25     WUQ4Q6IN98743GESDZKW\n",
       "26     6NCPIZ5TASX4M71EX1IY\n",
       "27     0A42ZZ8IC5Q6TRD45O2I\n",
       "28     XXDBI2K4TN3R1FUXRZ2T\n",
       "29     5EQ7KJ1D4M55H89ZSSTQ\n",
       "               ...         \n",
       "675    1IPN5IN4QLJD7KPSW9B0\n",
       "676    A3S9RBY27G28GGL86Q5D\n",
       "677    MF73LXQFFJ8RHUTINIXU\n",
       "678    RK014MR21PSAZT7GA21C\n",
       "679    I9SA90E0TIH1N93GFRTE\n",
       "680    ID54AU27HFCYJ83F5L5M\n",
       "681    BEEQQKWBKPFNR095PSXB\n",
       "682    CW292JE6YKPU6TUON51G\n",
       "683    ULUE5QSJRBWDGCGWLRX9\n",
       "684    GZQEUP3N5GLPYWGDXZLQ\n",
       "685    PG5O49SO3O2OM2C55ECM\n",
       "686    X0YNCTMY5XYS4UXBNNCC\n",
       "687    7KP28ZZ983HFEGTST1DI\n",
       "688    NPOJP5AW45O5YTYY97HA\n",
       "689    E7ZMPXLKERHSUYL70CO9\n",
       "690    IK3AYETM8ISHPOSJP7Z3\n",
       "691    ECGI0X0PYHJXKHOCWJLP\n",
       "692    LUMLSWUA0WU8ZTQEYZLJ\n",
       "693    FCM68O4Z5A8B1PJZ5E8Q\n",
       "694    SSJW3OW3L4I4CS72D06O\n",
       "695    8F6D6GI7BUA1CH1CFC8I\n",
       "696    HS63BFF6KOONU8F5LHWA\n",
       "697    KQQ470UJSF5D99X0A9EE\n",
       "698    9O4NIZX4IIKLJGEJ8IKN\n",
       "699    TA9EYRMSZQLZRT86CN5K\n",
       "700    8M7JJ5JBQUIA0ORLJ1UU\n",
       "701    WS1T1FLY87G9A1UNKST4\n",
       "702    0XG96FS1KXZSULPSGA1X\n",
       "703    YR858QHNQMCDBCT9JRP6\n",
       "704    IMKOIG7YFZ3KHC2OMFMH\n",
       "Name: ID, Length: 705, dtype: object"
      ]
     },
     "execution_count": 78,
     "metadata": {},
     "output_type": "execute_result"
    }
   ],
   "source": [
    "test_id"
   ]
  },
  {
   "cell_type": "code",
   "execution_count": 811,
   "metadata": {},
   "outputs": [],
   "source": [
    "p1 =model.predict(test)"
   ]
  },
  {
   "cell_type": "code",
   "execution_count": 812,
   "metadata": {},
   "outputs": [],
   "source": [
    "FinalSubmission=pd.DataFrame({'ID':test_id,'CustomerAttrition':p1})"
   ]
  },
  {
   "cell_type": "code",
   "execution_count": 813,
   "metadata": {},
   "outputs": [
    {
     "data": {
      "text/html": [
       "<div>\n",
       "<style scoped>\n",
       "    .dataframe tbody tr th:only-of-type {\n",
       "        vertical-align: middle;\n",
       "    }\n",
       "\n",
       "    .dataframe tbody tr th {\n",
       "        vertical-align: top;\n",
       "    }\n",
       "\n",
       "    .dataframe thead th {\n",
       "        text-align: right;\n",
       "    }\n",
       "</style>\n",
       "<table border=\"1\" class=\"dataframe\">\n",
       "  <thead>\n",
       "    <tr style=\"text-align: right;\">\n",
       "      <th></th>\n",
       "      <th>ID</th>\n",
       "      <th>CustomerAttrition</th>\n",
       "    </tr>\n",
       "  </thead>\n",
       "  <tbody>\n",
       "    <tr>\n",
       "      <th>0</th>\n",
       "      <td>WMORTPCG3HTIPEFSGUFY</td>\n",
       "      <td>0</td>\n",
       "    </tr>\n",
       "    <tr>\n",
       "      <th>1</th>\n",
       "      <td>GBLPEA16C3KGBO57KEFO</td>\n",
       "      <td>0</td>\n",
       "    </tr>\n",
       "    <tr>\n",
       "      <th>2</th>\n",
       "      <td>IDCQS0CO5P29AMKY3LO1</td>\n",
       "      <td>0</td>\n",
       "    </tr>\n",
       "    <tr>\n",
       "      <th>3</th>\n",
       "      <td>1IY29SDITYU6IFZ4KJB0</td>\n",
       "      <td>0</td>\n",
       "    </tr>\n",
       "    <tr>\n",
       "      <th>4</th>\n",
       "      <td>T5XMW5B0YPCONH30WJD2</td>\n",
       "      <td>0</td>\n",
       "    </tr>\n",
       "    <tr>\n",
       "      <th>5</th>\n",
       "      <td>9BZTYMBY9E0N7PJ9RIXE</td>\n",
       "      <td>0</td>\n",
       "    </tr>\n",
       "    <tr>\n",
       "      <th>6</th>\n",
       "      <td>S8UD0H3GT1RF8PDUTIB4</td>\n",
       "      <td>0</td>\n",
       "    </tr>\n",
       "    <tr>\n",
       "      <th>7</th>\n",
       "      <td>7OIMLC8BT2KAQOXTQXB4</td>\n",
       "      <td>1</td>\n",
       "    </tr>\n",
       "    <tr>\n",
       "      <th>8</th>\n",
       "      <td>CUY8I3DUZMFQ9WKQQWHA</td>\n",
       "      <td>1</td>\n",
       "    </tr>\n",
       "    <tr>\n",
       "      <th>9</th>\n",
       "      <td>J6BA9F4BQBF9J89NNFDM</td>\n",
       "      <td>0</td>\n",
       "    </tr>\n",
       "    <tr>\n",
       "      <th>10</th>\n",
       "      <td>HCE96FQHNJDYEIPADIH4</td>\n",
       "      <td>0</td>\n",
       "    </tr>\n",
       "    <tr>\n",
       "      <th>11</th>\n",
       "      <td>YU8K9OAO0X3DZP9IEEW2</td>\n",
       "      <td>0</td>\n",
       "    </tr>\n",
       "    <tr>\n",
       "      <th>12</th>\n",
       "      <td>YM79ZICKUAYNIJ0XYY2F</td>\n",
       "      <td>0</td>\n",
       "    </tr>\n",
       "    <tr>\n",
       "      <th>13</th>\n",
       "      <td>BG643H6OJ5D7DQD86A7N</td>\n",
       "      <td>1</td>\n",
       "    </tr>\n",
       "    <tr>\n",
       "      <th>14</th>\n",
       "      <td>QFLE5D8WQMJ0SSZ87AZA</td>\n",
       "      <td>0</td>\n",
       "    </tr>\n",
       "    <tr>\n",
       "      <th>15</th>\n",
       "      <td>3X75RRGID6M0GOZ8IBJU</td>\n",
       "      <td>1</td>\n",
       "    </tr>\n",
       "    <tr>\n",
       "      <th>16</th>\n",
       "      <td>1LOPA00K2199GN4CH1PS</td>\n",
       "      <td>0</td>\n",
       "    </tr>\n",
       "    <tr>\n",
       "      <th>17</th>\n",
       "      <td>KN40YX4BM7A1TWC5C8EU</td>\n",
       "      <td>0</td>\n",
       "    </tr>\n",
       "    <tr>\n",
       "      <th>18</th>\n",
       "      <td>450RPE8BBCBKWRJBKCSC</td>\n",
       "      <td>0</td>\n",
       "    </tr>\n",
       "    <tr>\n",
       "      <th>19</th>\n",
       "      <td>WHER1J83FIR0OT02TG2Y</td>\n",
       "      <td>1</td>\n",
       "    </tr>\n",
       "    <tr>\n",
       "      <th>20</th>\n",
       "      <td>KMN55YPQ2O0A8HI4FKHF</td>\n",
       "      <td>0</td>\n",
       "    </tr>\n",
       "    <tr>\n",
       "      <th>21</th>\n",
       "      <td>218JJG5TRNP64KSBIFR4</td>\n",
       "      <td>0</td>\n",
       "    </tr>\n",
       "    <tr>\n",
       "      <th>22</th>\n",
       "      <td>KEFTUS3K74LWKZT460TL</td>\n",
       "      <td>0</td>\n",
       "    </tr>\n",
       "    <tr>\n",
       "      <th>23</th>\n",
       "      <td>AECZGA7TQU6IQDNKXZE2</td>\n",
       "      <td>1</td>\n",
       "    </tr>\n",
       "    <tr>\n",
       "      <th>24</th>\n",
       "      <td>8M85UG8S4TO0MF825QJX</td>\n",
       "      <td>0</td>\n",
       "    </tr>\n",
       "    <tr>\n",
       "      <th>25</th>\n",
       "      <td>WUQ4Q6IN98743GESDZKW</td>\n",
       "      <td>1</td>\n",
       "    </tr>\n",
       "    <tr>\n",
       "      <th>26</th>\n",
       "      <td>6NCPIZ5TASX4M71EX1IY</td>\n",
       "      <td>0</td>\n",
       "    </tr>\n",
       "    <tr>\n",
       "      <th>27</th>\n",
       "      <td>0A42ZZ8IC5Q6TRD45O2I</td>\n",
       "      <td>0</td>\n",
       "    </tr>\n",
       "    <tr>\n",
       "      <th>28</th>\n",
       "      <td>XXDBI2K4TN3R1FUXRZ2T</td>\n",
       "      <td>0</td>\n",
       "    </tr>\n",
       "    <tr>\n",
       "      <th>29</th>\n",
       "      <td>5EQ7KJ1D4M55H89ZSSTQ</td>\n",
       "      <td>0</td>\n",
       "    </tr>\n",
       "    <tr>\n",
       "      <th>...</th>\n",
       "      <td>...</td>\n",
       "      <td>...</td>\n",
       "    </tr>\n",
       "    <tr>\n",
       "      <th>675</th>\n",
       "      <td>1IPN5IN4QLJD7KPSW9B0</td>\n",
       "      <td>1</td>\n",
       "    </tr>\n",
       "    <tr>\n",
       "      <th>676</th>\n",
       "      <td>A3S9RBY27G28GGL86Q5D</td>\n",
       "      <td>0</td>\n",
       "    </tr>\n",
       "    <tr>\n",
       "      <th>677</th>\n",
       "      <td>MF73LXQFFJ8RHUTINIXU</td>\n",
       "      <td>0</td>\n",
       "    </tr>\n",
       "    <tr>\n",
       "      <th>678</th>\n",
       "      <td>RK014MR21PSAZT7GA21C</td>\n",
       "      <td>0</td>\n",
       "    </tr>\n",
       "    <tr>\n",
       "      <th>679</th>\n",
       "      <td>I9SA90E0TIH1N93GFRTE</td>\n",
       "      <td>1</td>\n",
       "    </tr>\n",
       "    <tr>\n",
       "      <th>680</th>\n",
       "      <td>ID54AU27HFCYJ83F5L5M</td>\n",
       "      <td>0</td>\n",
       "    </tr>\n",
       "    <tr>\n",
       "      <th>681</th>\n",
       "      <td>BEEQQKWBKPFNR095PSXB</td>\n",
       "      <td>0</td>\n",
       "    </tr>\n",
       "    <tr>\n",
       "      <th>682</th>\n",
       "      <td>CW292JE6YKPU6TUON51G</td>\n",
       "      <td>1</td>\n",
       "    </tr>\n",
       "    <tr>\n",
       "      <th>683</th>\n",
       "      <td>ULUE5QSJRBWDGCGWLRX9</td>\n",
       "      <td>0</td>\n",
       "    </tr>\n",
       "    <tr>\n",
       "      <th>684</th>\n",
       "      <td>GZQEUP3N5GLPYWGDXZLQ</td>\n",
       "      <td>0</td>\n",
       "    </tr>\n",
       "    <tr>\n",
       "      <th>685</th>\n",
       "      <td>PG5O49SO3O2OM2C55ECM</td>\n",
       "      <td>0</td>\n",
       "    </tr>\n",
       "    <tr>\n",
       "      <th>686</th>\n",
       "      <td>X0YNCTMY5XYS4UXBNNCC</td>\n",
       "      <td>0</td>\n",
       "    </tr>\n",
       "    <tr>\n",
       "      <th>687</th>\n",
       "      <td>7KP28ZZ983HFEGTST1DI</td>\n",
       "      <td>1</td>\n",
       "    </tr>\n",
       "    <tr>\n",
       "      <th>688</th>\n",
       "      <td>NPOJP5AW45O5YTYY97HA</td>\n",
       "      <td>0</td>\n",
       "    </tr>\n",
       "    <tr>\n",
       "      <th>689</th>\n",
       "      <td>E7ZMPXLKERHSUYL70CO9</td>\n",
       "      <td>1</td>\n",
       "    </tr>\n",
       "    <tr>\n",
       "      <th>690</th>\n",
       "      <td>IK3AYETM8ISHPOSJP7Z3</td>\n",
       "      <td>0</td>\n",
       "    </tr>\n",
       "    <tr>\n",
       "      <th>691</th>\n",
       "      <td>ECGI0X0PYHJXKHOCWJLP</td>\n",
       "      <td>0</td>\n",
       "    </tr>\n",
       "    <tr>\n",
       "      <th>692</th>\n",
       "      <td>LUMLSWUA0WU8ZTQEYZLJ</td>\n",
       "      <td>0</td>\n",
       "    </tr>\n",
       "    <tr>\n",
       "      <th>693</th>\n",
       "      <td>FCM68O4Z5A8B1PJZ5E8Q</td>\n",
       "      <td>0</td>\n",
       "    </tr>\n",
       "    <tr>\n",
       "      <th>694</th>\n",
       "      <td>SSJW3OW3L4I4CS72D06O</td>\n",
       "      <td>1</td>\n",
       "    </tr>\n",
       "    <tr>\n",
       "      <th>695</th>\n",
       "      <td>8F6D6GI7BUA1CH1CFC8I</td>\n",
       "      <td>0</td>\n",
       "    </tr>\n",
       "    <tr>\n",
       "      <th>696</th>\n",
       "      <td>HS63BFF6KOONU8F5LHWA</td>\n",
       "      <td>0</td>\n",
       "    </tr>\n",
       "    <tr>\n",
       "      <th>697</th>\n",
       "      <td>KQQ470UJSF5D99X0A9EE</td>\n",
       "      <td>0</td>\n",
       "    </tr>\n",
       "    <tr>\n",
       "      <th>698</th>\n",
       "      <td>9O4NIZX4IIKLJGEJ8IKN</td>\n",
       "      <td>1</td>\n",
       "    </tr>\n",
       "    <tr>\n",
       "      <th>699</th>\n",
       "      <td>TA9EYRMSZQLZRT86CN5K</td>\n",
       "      <td>0</td>\n",
       "    </tr>\n",
       "    <tr>\n",
       "      <th>700</th>\n",
       "      <td>8M7JJ5JBQUIA0ORLJ1UU</td>\n",
       "      <td>0</td>\n",
       "    </tr>\n",
       "    <tr>\n",
       "      <th>701</th>\n",
       "      <td>WS1T1FLY87G9A1UNKST4</td>\n",
       "      <td>1</td>\n",
       "    </tr>\n",
       "    <tr>\n",
       "      <th>702</th>\n",
       "      <td>0XG96FS1KXZSULPSGA1X</td>\n",
       "      <td>1</td>\n",
       "    </tr>\n",
       "    <tr>\n",
       "      <th>703</th>\n",
       "      <td>YR858QHNQMCDBCT9JRP6</td>\n",
       "      <td>1</td>\n",
       "    </tr>\n",
       "    <tr>\n",
       "      <th>704</th>\n",
       "      <td>IMKOIG7YFZ3KHC2OMFMH</td>\n",
       "      <td>0</td>\n",
       "    </tr>\n",
       "  </tbody>\n",
       "</table>\n",
       "<p>705 rows × 2 columns</p>\n",
       "</div>"
      ],
      "text/plain": [
       "                       ID  CustomerAttrition\n",
       "0    WMORTPCG3HTIPEFSGUFY                  0\n",
       "1    GBLPEA16C3KGBO57KEFO                  0\n",
       "2    IDCQS0CO5P29AMKY3LO1                  0\n",
       "3    1IY29SDITYU6IFZ4KJB0                  0\n",
       "4    T5XMW5B0YPCONH30WJD2                  0\n",
       "5    9BZTYMBY9E0N7PJ9RIXE                  0\n",
       "6    S8UD0H3GT1RF8PDUTIB4                  0\n",
       "7    7OIMLC8BT2KAQOXTQXB4                  1\n",
       "8    CUY8I3DUZMFQ9WKQQWHA                  1\n",
       "9    J6BA9F4BQBF9J89NNFDM                  0\n",
       "10   HCE96FQHNJDYEIPADIH4                  0\n",
       "11   YU8K9OAO0X3DZP9IEEW2                  0\n",
       "12   YM79ZICKUAYNIJ0XYY2F                  0\n",
       "13   BG643H6OJ5D7DQD86A7N                  1\n",
       "14   QFLE5D8WQMJ0SSZ87AZA                  0\n",
       "15   3X75RRGID6M0GOZ8IBJU                  1\n",
       "16   1LOPA00K2199GN4CH1PS                  0\n",
       "17   KN40YX4BM7A1TWC5C8EU                  0\n",
       "18   450RPE8BBCBKWRJBKCSC                  0\n",
       "19   WHER1J83FIR0OT02TG2Y                  1\n",
       "20   KMN55YPQ2O0A8HI4FKHF                  0\n",
       "21   218JJG5TRNP64KSBIFR4                  0\n",
       "22   KEFTUS3K74LWKZT460TL                  0\n",
       "23   AECZGA7TQU6IQDNKXZE2                  1\n",
       "24   8M85UG8S4TO0MF825QJX                  0\n",
       "25   WUQ4Q6IN98743GESDZKW                  1\n",
       "26   6NCPIZ5TASX4M71EX1IY                  0\n",
       "27   0A42ZZ8IC5Q6TRD45O2I                  0\n",
       "28   XXDBI2K4TN3R1FUXRZ2T                  0\n",
       "29   5EQ7KJ1D4M55H89ZSSTQ                  0\n",
       "..                    ...                ...\n",
       "675  1IPN5IN4QLJD7KPSW9B0                  1\n",
       "676  A3S9RBY27G28GGL86Q5D                  0\n",
       "677  MF73LXQFFJ8RHUTINIXU                  0\n",
       "678  RK014MR21PSAZT7GA21C                  0\n",
       "679  I9SA90E0TIH1N93GFRTE                  1\n",
       "680  ID54AU27HFCYJ83F5L5M                  0\n",
       "681  BEEQQKWBKPFNR095PSXB                  0\n",
       "682  CW292JE6YKPU6TUON51G                  1\n",
       "683  ULUE5QSJRBWDGCGWLRX9                  0\n",
       "684  GZQEUP3N5GLPYWGDXZLQ                  0\n",
       "685  PG5O49SO3O2OM2C55ECM                  0\n",
       "686  X0YNCTMY5XYS4UXBNNCC                  0\n",
       "687  7KP28ZZ983HFEGTST1DI                  1\n",
       "688  NPOJP5AW45O5YTYY97HA                  0\n",
       "689  E7ZMPXLKERHSUYL70CO9                  1\n",
       "690  IK3AYETM8ISHPOSJP7Z3                  0\n",
       "691  ECGI0X0PYHJXKHOCWJLP                  0\n",
       "692  LUMLSWUA0WU8ZTQEYZLJ                  0\n",
       "693  FCM68O4Z5A8B1PJZ5E8Q                  0\n",
       "694  SSJW3OW3L4I4CS72D06O                  1\n",
       "695  8F6D6GI7BUA1CH1CFC8I                  0\n",
       "696  HS63BFF6KOONU8F5LHWA                  0\n",
       "697  KQQ470UJSF5D99X0A9EE                  0\n",
       "698  9O4NIZX4IIKLJGEJ8IKN                  1\n",
       "699  TA9EYRMSZQLZRT86CN5K                  0\n",
       "700  8M7JJ5JBQUIA0ORLJ1UU                  0\n",
       "701  WS1T1FLY87G9A1UNKST4                  1\n",
       "702  0XG96FS1KXZSULPSGA1X                  1\n",
       "703  YR858QHNQMCDBCT9JRP6                  1\n",
       "704  IMKOIG7YFZ3KHC2OMFMH                  0\n",
       "\n",
       "[705 rows x 2 columns]"
      ]
     },
     "execution_count": 813,
     "metadata": {},
     "output_type": "execute_result"
    }
   ],
   "source": [
    "FinalSubmission"
   ]
  },
  {
   "cell_type": "code",
   "execution_count": 814,
   "metadata": {},
   "outputs": [],
   "source": [
    "FinalSubmission['CustomerAttrition'] = FinalSubmission['CustomerAttrition'].map({0:'No',1:'Yes'})"
   ]
  },
  {
   "cell_type": "code",
   "execution_count": 815,
   "metadata": {},
   "outputs": [
    {
     "data": {
      "text/html": [
       "<div>\n",
       "<style scoped>\n",
       "    .dataframe tbody tr th:only-of-type {\n",
       "        vertical-align: middle;\n",
       "    }\n",
       "\n",
       "    .dataframe tbody tr th {\n",
       "        vertical-align: top;\n",
       "    }\n",
       "\n",
       "    .dataframe thead th {\n",
       "        text-align: right;\n",
       "    }\n",
       "</style>\n",
       "<table border=\"1\" class=\"dataframe\">\n",
       "  <thead>\n",
       "    <tr style=\"text-align: right;\">\n",
       "      <th></th>\n",
       "      <th>ID</th>\n",
       "      <th>CustomerAttrition</th>\n",
       "    </tr>\n",
       "  </thead>\n",
       "  <tbody>\n",
       "    <tr>\n",
       "      <th>0</th>\n",
       "      <td>WMORTPCG3HTIPEFSGUFY</td>\n",
       "      <td>No</td>\n",
       "    </tr>\n",
       "    <tr>\n",
       "      <th>1</th>\n",
       "      <td>GBLPEA16C3KGBO57KEFO</td>\n",
       "      <td>No</td>\n",
       "    </tr>\n",
       "    <tr>\n",
       "      <th>2</th>\n",
       "      <td>IDCQS0CO5P29AMKY3LO1</td>\n",
       "      <td>No</td>\n",
       "    </tr>\n",
       "    <tr>\n",
       "      <th>3</th>\n",
       "      <td>1IY29SDITYU6IFZ4KJB0</td>\n",
       "      <td>No</td>\n",
       "    </tr>\n",
       "    <tr>\n",
       "      <th>4</th>\n",
       "      <td>T5XMW5B0YPCONH30WJD2</td>\n",
       "      <td>No</td>\n",
       "    </tr>\n",
       "    <tr>\n",
       "      <th>5</th>\n",
       "      <td>9BZTYMBY9E0N7PJ9RIXE</td>\n",
       "      <td>No</td>\n",
       "    </tr>\n",
       "    <tr>\n",
       "      <th>6</th>\n",
       "      <td>S8UD0H3GT1RF8PDUTIB4</td>\n",
       "      <td>No</td>\n",
       "    </tr>\n",
       "    <tr>\n",
       "      <th>7</th>\n",
       "      <td>7OIMLC8BT2KAQOXTQXB4</td>\n",
       "      <td>Yes</td>\n",
       "    </tr>\n",
       "    <tr>\n",
       "      <th>8</th>\n",
       "      <td>CUY8I3DUZMFQ9WKQQWHA</td>\n",
       "      <td>Yes</td>\n",
       "    </tr>\n",
       "    <tr>\n",
       "      <th>9</th>\n",
       "      <td>J6BA9F4BQBF9J89NNFDM</td>\n",
       "      <td>No</td>\n",
       "    </tr>\n",
       "    <tr>\n",
       "      <th>10</th>\n",
       "      <td>HCE96FQHNJDYEIPADIH4</td>\n",
       "      <td>No</td>\n",
       "    </tr>\n",
       "    <tr>\n",
       "      <th>11</th>\n",
       "      <td>YU8K9OAO0X3DZP9IEEW2</td>\n",
       "      <td>No</td>\n",
       "    </tr>\n",
       "    <tr>\n",
       "      <th>12</th>\n",
       "      <td>YM79ZICKUAYNIJ0XYY2F</td>\n",
       "      <td>No</td>\n",
       "    </tr>\n",
       "    <tr>\n",
       "      <th>13</th>\n",
       "      <td>BG643H6OJ5D7DQD86A7N</td>\n",
       "      <td>Yes</td>\n",
       "    </tr>\n",
       "    <tr>\n",
       "      <th>14</th>\n",
       "      <td>QFLE5D8WQMJ0SSZ87AZA</td>\n",
       "      <td>No</td>\n",
       "    </tr>\n",
       "    <tr>\n",
       "      <th>15</th>\n",
       "      <td>3X75RRGID6M0GOZ8IBJU</td>\n",
       "      <td>Yes</td>\n",
       "    </tr>\n",
       "    <tr>\n",
       "      <th>16</th>\n",
       "      <td>1LOPA00K2199GN4CH1PS</td>\n",
       "      <td>No</td>\n",
       "    </tr>\n",
       "    <tr>\n",
       "      <th>17</th>\n",
       "      <td>KN40YX4BM7A1TWC5C8EU</td>\n",
       "      <td>No</td>\n",
       "    </tr>\n",
       "    <tr>\n",
       "      <th>18</th>\n",
       "      <td>450RPE8BBCBKWRJBKCSC</td>\n",
       "      <td>No</td>\n",
       "    </tr>\n",
       "    <tr>\n",
       "      <th>19</th>\n",
       "      <td>WHER1J83FIR0OT02TG2Y</td>\n",
       "      <td>Yes</td>\n",
       "    </tr>\n",
       "    <tr>\n",
       "      <th>20</th>\n",
       "      <td>KMN55YPQ2O0A8HI4FKHF</td>\n",
       "      <td>No</td>\n",
       "    </tr>\n",
       "    <tr>\n",
       "      <th>21</th>\n",
       "      <td>218JJG5TRNP64KSBIFR4</td>\n",
       "      <td>No</td>\n",
       "    </tr>\n",
       "    <tr>\n",
       "      <th>22</th>\n",
       "      <td>KEFTUS3K74LWKZT460TL</td>\n",
       "      <td>No</td>\n",
       "    </tr>\n",
       "    <tr>\n",
       "      <th>23</th>\n",
       "      <td>AECZGA7TQU6IQDNKXZE2</td>\n",
       "      <td>Yes</td>\n",
       "    </tr>\n",
       "    <tr>\n",
       "      <th>24</th>\n",
       "      <td>8M85UG8S4TO0MF825QJX</td>\n",
       "      <td>No</td>\n",
       "    </tr>\n",
       "    <tr>\n",
       "      <th>25</th>\n",
       "      <td>WUQ4Q6IN98743GESDZKW</td>\n",
       "      <td>Yes</td>\n",
       "    </tr>\n",
       "    <tr>\n",
       "      <th>26</th>\n",
       "      <td>6NCPIZ5TASX4M71EX1IY</td>\n",
       "      <td>No</td>\n",
       "    </tr>\n",
       "    <tr>\n",
       "      <th>27</th>\n",
       "      <td>0A42ZZ8IC5Q6TRD45O2I</td>\n",
       "      <td>No</td>\n",
       "    </tr>\n",
       "    <tr>\n",
       "      <th>28</th>\n",
       "      <td>XXDBI2K4TN3R1FUXRZ2T</td>\n",
       "      <td>No</td>\n",
       "    </tr>\n",
       "    <tr>\n",
       "      <th>29</th>\n",
       "      <td>5EQ7KJ1D4M55H89ZSSTQ</td>\n",
       "      <td>No</td>\n",
       "    </tr>\n",
       "    <tr>\n",
       "      <th>...</th>\n",
       "      <td>...</td>\n",
       "      <td>...</td>\n",
       "    </tr>\n",
       "    <tr>\n",
       "      <th>675</th>\n",
       "      <td>1IPN5IN4QLJD7KPSW9B0</td>\n",
       "      <td>Yes</td>\n",
       "    </tr>\n",
       "    <tr>\n",
       "      <th>676</th>\n",
       "      <td>A3S9RBY27G28GGL86Q5D</td>\n",
       "      <td>No</td>\n",
       "    </tr>\n",
       "    <tr>\n",
       "      <th>677</th>\n",
       "      <td>MF73LXQFFJ8RHUTINIXU</td>\n",
       "      <td>No</td>\n",
       "    </tr>\n",
       "    <tr>\n",
       "      <th>678</th>\n",
       "      <td>RK014MR21PSAZT7GA21C</td>\n",
       "      <td>No</td>\n",
       "    </tr>\n",
       "    <tr>\n",
       "      <th>679</th>\n",
       "      <td>I9SA90E0TIH1N93GFRTE</td>\n",
       "      <td>Yes</td>\n",
       "    </tr>\n",
       "    <tr>\n",
       "      <th>680</th>\n",
       "      <td>ID54AU27HFCYJ83F5L5M</td>\n",
       "      <td>No</td>\n",
       "    </tr>\n",
       "    <tr>\n",
       "      <th>681</th>\n",
       "      <td>BEEQQKWBKPFNR095PSXB</td>\n",
       "      <td>No</td>\n",
       "    </tr>\n",
       "    <tr>\n",
       "      <th>682</th>\n",
       "      <td>CW292JE6YKPU6TUON51G</td>\n",
       "      <td>Yes</td>\n",
       "    </tr>\n",
       "    <tr>\n",
       "      <th>683</th>\n",
       "      <td>ULUE5QSJRBWDGCGWLRX9</td>\n",
       "      <td>No</td>\n",
       "    </tr>\n",
       "    <tr>\n",
       "      <th>684</th>\n",
       "      <td>GZQEUP3N5GLPYWGDXZLQ</td>\n",
       "      <td>No</td>\n",
       "    </tr>\n",
       "    <tr>\n",
       "      <th>685</th>\n",
       "      <td>PG5O49SO3O2OM2C55ECM</td>\n",
       "      <td>No</td>\n",
       "    </tr>\n",
       "    <tr>\n",
       "      <th>686</th>\n",
       "      <td>X0YNCTMY5XYS4UXBNNCC</td>\n",
       "      <td>No</td>\n",
       "    </tr>\n",
       "    <tr>\n",
       "      <th>687</th>\n",
       "      <td>7KP28ZZ983HFEGTST1DI</td>\n",
       "      <td>Yes</td>\n",
       "    </tr>\n",
       "    <tr>\n",
       "      <th>688</th>\n",
       "      <td>NPOJP5AW45O5YTYY97HA</td>\n",
       "      <td>No</td>\n",
       "    </tr>\n",
       "    <tr>\n",
       "      <th>689</th>\n",
       "      <td>E7ZMPXLKERHSUYL70CO9</td>\n",
       "      <td>Yes</td>\n",
       "    </tr>\n",
       "    <tr>\n",
       "      <th>690</th>\n",
       "      <td>IK3AYETM8ISHPOSJP7Z3</td>\n",
       "      <td>No</td>\n",
       "    </tr>\n",
       "    <tr>\n",
       "      <th>691</th>\n",
       "      <td>ECGI0X0PYHJXKHOCWJLP</td>\n",
       "      <td>No</td>\n",
       "    </tr>\n",
       "    <tr>\n",
       "      <th>692</th>\n",
       "      <td>LUMLSWUA0WU8ZTQEYZLJ</td>\n",
       "      <td>No</td>\n",
       "    </tr>\n",
       "    <tr>\n",
       "      <th>693</th>\n",
       "      <td>FCM68O4Z5A8B1PJZ5E8Q</td>\n",
       "      <td>No</td>\n",
       "    </tr>\n",
       "    <tr>\n",
       "      <th>694</th>\n",
       "      <td>SSJW3OW3L4I4CS72D06O</td>\n",
       "      <td>Yes</td>\n",
       "    </tr>\n",
       "    <tr>\n",
       "      <th>695</th>\n",
       "      <td>8F6D6GI7BUA1CH1CFC8I</td>\n",
       "      <td>No</td>\n",
       "    </tr>\n",
       "    <tr>\n",
       "      <th>696</th>\n",
       "      <td>HS63BFF6KOONU8F5LHWA</td>\n",
       "      <td>No</td>\n",
       "    </tr>\n",
       "    <tr>\n",
       "      <th>697</th>\n",
       "      <td>KQQ470UJSF5D99X0A9EE</td>\n",
       "      <td>No</td>\n",
       "    </tr>\n",
       "    <tr>\n",
       "      <th>698</th>\n",
       "      <td>9O4NIZX4IIKLJGEJ8IKN</td>\n",
       "      <td>Yes</td>\n",
       "    </tr>\n",
       "    <tr>\n",
       "      <th>699</th>\n",
       "      <td>TA9EYRMSZQLZRT86CN5K</td>\n",
       "      <td>No</td>\n",
       "    </tr>\n",
       "    <tr>\n",
       "      <th>700</th>\n",
       "      <td>8M7JJ5JBQUIA0ORLJ1UU</td>\n",
       "      <td>No</td>\n",
       "    </tr>\n",
       "    <tr>\n",
       "      <th>701</th>\n",
       "      <td>WS1T1FLY87G9A1UNKST4</td>\n",
       "      <td>Yes</td>\n",
       "    </tr>\n",
       "    <tr>\n",
       "      <th>702</th>\n",
       "      <td>0XG96FS1KXZSULPSGA1X</td>\n",
       "      <td>Yes</td>\n",
       "    </tr>\n",
       "    <tr>\n",
       "      <th>703</th>\n",
       "      <td>YR858QHNQMCDBCT9JRP6</td>\n",
       "      <td>Yes</td>\n",
       "    </tr>\n",
       "    <tr>\n",
       "      <th>704</th>\n",
       "      <td>IMKOIG7YFZ3KHC2OMFMH</td>\n",
       "      <td>No</td>\n",
       "    </tr>\n",
       "  </tbody>\n",
       "</table>\n",
       "<p>705 rows × 2 columns</p>\n",
       "</div>"
      ],
      "text/plain": [
       "                       ID CustomerAttrition\n",
       "0    WMORTPCG3HTIPEFSGUFY                No\n",
       "1    GBLPEA16C3KGBO57KEFO                No\n",
       "2    IDCQS0CO5P29AMKY3LO1                No\n",
       "3    1IY29SDITYU6IFZ4KJB0                No\n",
       "4    T5XMW5B0YPCONH30WJD2                No\n",
       "5    9BZTYMBY9E0N7PJ9RIXE                No\n",
       "6    S8UD0H3GT1RF8PDUTIB4                No\n",
       "7    7OIMLC8BT2KAQOXTQXB4               Yes\n",
       "8    CUY8I3DUZMFQ9WKQQWHA               Yes\n",
       "9    J6BA9F4BQBF9J89NNFDM                No\n",
       "10   HCE96FQHNJDYEIPADIH4                No\n",
       "11   YU8K9OAO0X3DZP9IEEW2                No\n",
       "12   YM79ZICKUAYNIJ0XYY2F                No\n",
       "13   BG643H6OJ5D7DQD86A7N               Yes\n",
       "14   QFLE5D8WQMJ0SSZ87AZA                No\n",
       "15   3X75RRGID6M0GOZ8IBJU               Yes\n",
       "16   1LOPA00K2199GN4CH1PS                No\n",
       "17   KN40YX4BM7A1TWC5C8EU                No\n",
       "18   450RPE8BBCBKWRJBKCSC                No\n",
       "19   WHER1J83FIR0OT02TG2Y               Yes\n",
       "20   KMN55YPQ2O0A8HI4FKHF                No\n",
       "21   218JJG5TRNP64KSBIFR4                No\n",
       "22   KEFTUS3K74LWKZT460TL                No\n",
       "23   AECZGA7TQU6IQDNKXZE2               Yes\n",
       "24   8M85UG8S4TO0MF825QJX                No\n",
       "25   WUQ4Q6IN98743GESDZKW               Yes\n",
       "26   6NCPIZ5TASX4M71EX1IY                No\n",
       "27   0A42ZZ8IC5Q6TRD45O2I                No\n",
       "28   XXDBI2K4TN3R1FUXRZ2T                No\n",
       "29   5EQ7KJ1D4M55H89ZSSTQ                No\n",
       "..                    ...               ...\n",
       "675  1IPN5IN4QLJD7KPSW9B0               Yes\n",
       "676  A3S9RBY27G28GGL86Q5D                No\n",
       "677  MF73LXQFFJ8RHUTINIXU                No\n",
       "678  RK014MR21PSAZT7GA21C                No\n",
       "679  I9SA90E0TIH1N93GFRTE               Yes\n",
       "680  ID54AU27HFCYJ83F5L5M                No\n",
       "681  BEEQQKWBKPFNR095PSXB                No\n",
       "682  CW292JE6YKPU6TUON51G               Yes\n",
       "683  ULUE5QSJRBWDGCGWLRX9                No\n",
       "684  GZQEUP3N5GLPYWGDXZLQ                No\n",
       "685  PG5O49SO3O2OM2C55ECM                No\n",
       "686  X0YNCTMY5XYS4UXBNNCC                No\n",
       "687  7KP28ZZ983HFEGTST1DI               Yes\n",
       "688  NPOJP5AW45O5YTYY97HA                No\n",
       "689  E7ZMPXLKERHSUYL70CO9               Yes\n",
       "690  IK3AYETM8ISHPOSJP7Z3                No\n",
       "691  ECGI0X0PYHJXKHOCWJLP                No\n",
       "692  LUMLSWUA0WU8ZTQEYZLJ                No\n",
       "693  FCM68O4Z5A8B1PJZ5E8Q                No\n",
       "694  SSJW3OW3L4I4CS72D06O               Yes\n",
       "695  8F6D6GI7BUA1CH1CFC8I                No\n",
       "696  HS63BFF6KOONU8F5LHWA                No\n",
       "697  KQQ470UJSF5D99X0A9EE                No\n",
       "698  9O4NIZX4IIKLJGEJ8IKN               Yes\n",
       "699  TA9EYRMSZQLZRT86CN5K                No\n",
       "700  8M7JJ5JBQUIA0ORLJ1UU                No\n",
       "701  WS1T1FLY87G9A1UNKST4               Yes\n",
       "702  0XG96FS1KXZSULPSGA1X               Yes\n",
       "703  YR858QHNQMCDBCT9JRP6               Yes\n",
       "704  IMKOIG7YFZ3KHC2OMFMH                No\n",
       "\n",
       "[705 rows x 2 columns]"
      ]
     },
     "execution_count": 815,
     "metadata": {},
     "output_type": "execute_result"
    }
   ],
   "source": [
    "FinalSubmission"
   ]
  },
  {
   "cell_type": "code",
   "execution_count": 816,
   "metadata": {},
   "outputs": [],
   "source": [
    "FinalSubmission.to_csv(\"KJSP.csv\",index=False)"
   ]
  },
  {
   "cell_type": "markdown",
   "metadata": {},
   "source": [
    "Trying different algorithms to check the accuracy. "
   ]
  },
  {
   "cell_type": "markdown",
   "metadata": {},
   "source": [
    "# Gradient Boosting Classifier"
   ]
  },
  {
   "cell_type": "code",
   "execution_count": 375,
   "metadata": {},
   "outputs": [],
   "source": [
    "model_GB = GradientBoostingClassifier()\n",
    "model_GB.fit(X_train, y_train)\n",
    "predictions=model_GB.predict(X_test)"
   ]
  },
  {
   "cell_type": "code",
   "execution_count": 376,
   "metadata": {},
   "outputs": [
    {
     "name": "stdout",
     "output_type": "stream",
     "text": [
      "              precision    recall  f1-score   support\n",
      "\n",
      "           0       0.79      0.74      0.77       932\n",
      "           1       0.76      0.80      0.78       932\n",
      "\n",
      "    accuracy                           0.77      1864\n",
      "   macro avg       0.77      0.77      0.77      1864\n",
      "weighted avg       0.77      0.77      0.77      1864\n",
      "\n",
      "[[692 240]\n",
      " [185 747]]\n",
      "0.7719957081545065\n"
     ]
    }
   ],
   "source": [
    "print(classification_report(y_test,predictions))\n",
    "\n",
    "print(confusion_matrix(y_test,predictions))\n",
    "\n",
    "train.corr()['CustomerAttrition']\n",
    "\n",
    "print(accuracy_score(y_test, predictions))"
   ]
  },
  {
   "cell_type": "markdown",
   "metadata": {},
   "source": [
    "# Ada Boost"
   ]
  },
  {
   "cell_type": "code",
   "execution_count": null,
   "metadata": {},
   "outputs": [],
   "source": [
    "from sklearn.metrics import classification_report, confusion_matrix"
   ]
  },
  {
   "cell_type": "code",
   "execution_count": null,
   "metadata": {},
   "outputs": [],
   "source": [
    "print(classification_report(y_test,y_pred))"
   ]
  },
  {
   "cell_type": "code",
   "execution_count": null,
   "metadata": {},
   "outputs": [],
   "source": [
    "print(confusion_matrix(y_test,y_pred))"
   ]
  },
  {
   "cell_type": "code",
   "execution_count": 382,
   "metadata": {},
   "outputs": [],
   "source": [
    "def ada_boost(X_train, X_test, y_train, y_test):\n",
    "    model = AdaBoostClassifier(learning_rate = 0.5, n_estimators=500)\n",
    "    model.fit(X_train, y_train)\n",
    "    # predict class labels for the test set (Churn = True, Not Churn = False)\n",
    "    predicted = model.predict(X_test)\n",
    "    # generate class probabilities\n",
    "    probs = model.predict_proba(X_test)\n",
    "    return model, predicted, probs"
   ]
  },
  {
   "cell_type": "code",
   "execution_count": 383,
   "metadata": {},
   "outputs": [],
   "source": [
    "model, predicted, probs = ada_boost(X_train, X_test, y_train, y_test)"
   ]
  },
  {
   "cell_type": "code",
   "execution_count": 384,
   "metadata": {},
   "outputs": [
    {
     "name": "stdout",
     "output_type": "stream",
     "text": [
      "Accuracy: 0.7655579399141631\n",
      "Precision:  0.7492447129909365\n",
      "Recall:  0.7982832618025751\n"
     ]
    }
   ],
   "source": [
    "\n",
    "from sklearn.metrics import accuracy_score, recall_score, precision_score\n",
    "%matplotlib inline\n",
    "\n",
    "print('Accuracy:',accuracy_score(y_test, predicted))\n",
    "print('Precision: ',precision_score(y_test, predicted))\n",
    "print('Recall: ', recall_score(y_test, predicted))"
   ]
  },
  {
   "cell_type": "markdown",
   "metadata": {},
   "source": [
    "# Thank you for watching out:)"
   ]
  }
 ],
 "metadata": {
  "kernelspec": {
   "display_name": "Python 3",
   "language": "python",
   "name": "python3"
  },
  "language_info": {
   "codemirror_mode": {
    "name": "ipython",
    "version": 3
   },
   "file_extension": ".py",
   "mimetype": "text/x-python",
   "name": "python",
   "nbconvert_exporter": "python",
   "pygments_lexer": "ipython3",
   "version": "3.8.5"
  }
 },
 "nbformat": 4,
 "nbformat_minor": 4
}
